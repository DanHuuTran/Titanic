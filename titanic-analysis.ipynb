{
 "cells": [
  {
   "cell_type": "code",
   "execution_count": 1,
   "id": "da3801e7",
   "metadata": {
    "_cell_guid": "b1076dfc-b9ad-4769-8c92-a6c4dae69d19",
    "_uuid": "8f2839f25d086af736a60e9eeb907d3b93b6e0e5",
    "execution": {
     "iopub.execute_input": "2024-01-26T20:35:32.197718Z",
     "iopub.status.busy": "2024-01-26T20:35:32.197308Z",
     "iopub.status.idle": "2024-01-26T20:35:32.986800Z",
     "shell.execute_reply": "2024-01-26T20:35:32.985778Z"
    },
    "papermill": {
     "duration": 0.810897,
     "end_time": "2024-01-26T20:35:32.989347",
     "exception": false,
     "start_time": "2024-01-26T20:35:32.178450",
     "status": "completed"
    },
    "tags": []
   },
   "outputs": [],
   "source": [
    "import numpy as np # linear algebra\n",
    "import pandas as pd # data processing, CSV file I/O (e.g. pd.read_csv)\n",
    "import os"
   ]
  },
  {
   "cell_type": "code",
   "execution_count": 2,
   "id": "3a2b9699",
   "metadata": {
    "execution": {
     "iopub.execute_input": "2024-01-26T20:35:33.014696Z",
     "iopub.status.busy": "2024-01-26T20:35:33.014136Z",
     "iopub.status.idle": "2024-01-26T20:35:33.021858Z",
     "shell.execute_reply": "2024-01-26T20:35:33.020693Z"
    },
    "papermill": {
     "duration": 0.022941,
     "end_time": "2024-01-26T20:35:33.024255",
     "exception": false,
     "start_time": "2024-01-26T20:35:33.001314",
     "status": "completed"
    },
    "tags": []
   },
   "outputs": [
    {
     "data": {
      "text/plain": [
       "'/kaggle/working'"
      ]
     },
     "execution_count": 2,
     "metadata": {},
     "output_type": "execute_result"
    }
   ],
   "source": [
    "os.getcwd()"
   ]
  },
  {
   "cell_type": "code",
   "execution_count": 3,
   "id": "9b32e6f7",
   "metadata": {
    "execution": {
     "iopub.execute_input": "2024-01-26T20:35:33.049841Z",
     "iopub.status.busy": "2024-01-26T20:35:33.049442Z",
     "iopub.status.idle": "2024-01-26T20:35:33.056270Z",
     "shell.execute_reply": "2024-01-26T20:35:33.055215Z"
    },
    "papermill": {
     "duration": 0.022436,
     "end_time": "2024-01-26T20:35:33.058521",
     "exception": false,
     "start_time": "2024-01-26T20:35:33.036085",
     "status": "completed"
    },
    "tags": []
   },
   "outputs": [
    {
     "data": {
      "text/plain": [
       "['titanicdataset-traincsv']"
      ]
     },
     "execution_count": 3,
     "metadata": {},
     "output_type": "execute_result"
    }
   ],
   "source": [
    "os.listdir('/kaggle/input/')"
   ]
  },
  {
   "cell_type": "markdown",
   "id": "c600fccf",
   "metadata": {
    "papermill": {
     "duration": 0.011561,
     "end_time": "2024-01-26T20:35:33.082128",
     "exception": false,
     "start_time": "2024-01-26T20:35:33.070567",
     "status": "completed"
    },
    "tags": []
   },
   "source": [
    "# The Data Set"
   ]
  },
  {
   "cell_type": "code",
   "execution_count": 4,
   "id": "e1fb0309",
   "metadata": {
    "execution": {
     "iopub.execute_input": "2024-01-26T20:35:33.108421Z",
     "iopub.status.busy": "2024-01-26T20:35:33.108003Z",
     "iopub.status.idle": "2024-01-26T20:35:33.166396Z",
     "shell.execute_reply": "2024-01-26T20:35:33.165235Z"
    },
    "papermill": {
     "duration": 0.074222,
     "end_time": "2024-01-26T20:35:33.169036",
     "exception": false,
     "start_time": "2024-01-26T20:35:33.094814",
     "status": "completed"
    },
    "tags": []
   },
   "outputs": [
    {
     "data": {
      "text/html": [
       "<div>\n",
       "<style scoped>\n",
       "    .dataframe tbody tr th:only-of-type {\n",
       "        vertical-align: middle;\n",
       "    }\n",
       "\n",
       "    .dataframe tbody tr th {\n",
       "        vertical-align: top;\n",
       "    }\n",
       "\n",
       "    .dataframe thead th {\n",
       "        text-align: right;\n",
       "    }\n",
       "</style>\n",
       "<table border=\"1\" class=\"dataframe\">\n",
       "  <thead>\n",
       "    <tr style=\"text-align: right;\">\n",
       "      <th></th>\n",
       "      <th>PassengerId</th>\n",
       "      <th>Survived</th>\n",
       "      <th>Pclass</th>\n",
       "      <th>Name</th>\n",
       "      <th>Sex</th>\n",
       "      <th>Age</th>\n",
       "      <th>SibSp</th>\n",
       "      <th>Parch</th>\n",
       "      <th>Ticket</th>\n",
       "      <th>Fare</th>\n",
       "      <th>Cabin</th>\n",
       "      <th>Embarked</th>\n",
       "    </tr>\n",
       "  </thead>\n",
       "  <tbody>\n",
       "    <tr>\n",
       "      <th>0</th>\n",
       "      <td>1</td>\n",
       "      <td>0</td>\n",
       "      <td>3</td>\n",
       "      <td>Braund, Mr. Owen Harris</td>\n",
       "      <td>male</td>\n",
       "      <td>22.0</td>\n",
       "      <td>1</td>\n",
       "      <td>0</td>\n",
       "      <td>A/5 21171</td>\n",
       "      <td>7.2500</td>\n",
       "      <td>NaN</td>\n",
       "      <td>S</td>\n",
       "    </tr>\n",
       "    <tr>\n",
       "      <th>1</th>\n",
       "      <td>2</td>\n",
       "      <td>1</td>\n",
       "      <td>1</td>\n",
       "      <td>Cumings, Mrs. John Bradley (Florence Briggs Th...</td>\n",
       "      <td>female</td>\n",
       "      <td>38.0</td>\n",
       "      <td>1</td>\n",
       "      <td>0</td>\n",
       "      <td>PC 17599</td>\n",
       "      <td>71.2833</td>\n",
       "      <td>C85</td>\n",
       "      <td>C</td>\n",
       "    </tr>\n",
       "    <tr>\n",
       "      <th>2</th>\n",
       "      <td>3</td>\n",
       "      <td>1</td>\n",
       "      <td>3</td>\n",
       "      <td>Heikkinen, Miss. Laina</td>\n",
       "      <td>female</td>\n",
       "      <td>26.0</td>\n",
       "      <td>0</td>\n",
       "      <td>0</td>\n",
       "      <td>STON/O2. 3101282</td>\n",
       "      <td>7.9250</td>\n",
       "      <td>NaN</td>\n",
       "      <td>S</td>\n",
       "    </tr>\n",
       "    <tr>\n",
       "      <th>3</th>\n",
       "      <td>4</td>\n",
       "      <td>1</td>\n",
       "      <td>1</td>\n",
       "      <td>Futrelle, Mrs. Jacques Heath (Lily May Peel)</td>\n",
       "      <td>female</td>\n",
       "      <td>35.0</td>\n",
       "      <td>1</td>\n",
       "      <td>0</td>\n",
       "      <td>113803</td>\n",
       "      <td>53.1000</td>\n",
       "      <td>C123</td>\n",
       "      <td>S</td>\n",
       "    </tr>\n",
       "    <tr>\n",
       "      <th>4</th>\n",
       "      <td>5</td>\n",
       "      <td>0</td>\n",
       "      <td>3</td>\n",
       "      <td>Allen, Mr. William Henry</td>\n",
       "      <td>male</td>\n",
       "      <td>35.0</td>\n",
       "      <td>0</td>\n",
       "      <td>0</td>\n",
       "      <td>373450</td>\n",
       "      <td>8.0500</td>\n",
       "      <td>NaN</td>\n",
       "      <td>S</td>\n",
       "    </tr>\n",
       "    <tr>\n",
       "      <th>5</th>\n",
       "      <td>6</td>\n",
       "      <td>0</td>\n",
       "      <td>3</td>\n",
       "      <td>Moran, Mr. James</td>\n",
       "      <td>male</td>\n",
       "      <td>NaN</td>\n",
       "      <td>0</td>\n",
       "      <td>0</td>\n",
       "      <td>330877</td>\n",
       "      <td>8.4583</td>\n",
       "      <td>NaN</td>\n",
       "      <td>Q</td>\n",
       "    </tr>\n",
       "  </tbody>\n",
       "</table>\n",
       "</div>"
      ],
      "text/plain": [
       "   PassengerId  Survived  Pclass  \\\n",
       "0            1         0       3   \n",
       "1            2         1       1   \n",
       "2            3         1       3   \n",
       "3            4         1       1   \n",
       "4            5         0       3   \n",
       "5            6         0       3   \n",
       "\n",
       "                                                Name     Sex   Age  SibSp  \\\n",
       "0                            Braund, Mr. Owen Harris    male  22.0      1   \n",
       "1  Cumings, Mrs. John Bradley (Florence Briggs Th...  female  38.0      1   \n",
       "2                             Heikkinen, Miss. Laina  female  26.0      0   \n",
       "3       Futrelle, Mrs. Jacques Heath (Lily May Peel)  female  35.0      1   \n",
       "4                           Allen, Mr. William Henry    male  35.0      0   \n",
       "5                                   Moran, Mr. James    male   NaN      0   \n",
       "\n",
       "   Parch            Ticket     Fare Cabin Embarked  \n",
       "0      0         A/5 21171   7.2500   NaN        S  \n",
       "1      0          PC 17599  71.2833   C85        C  \n",
       "2      0  STON/O2. 3101282   7.9250   NaN        S  \n",
       "3      0            113803  53.1000  C123        S  \n",
       "4      0            373450   8.0500   NaN        S  \n",
       "5      0            330877   8.4583   NaN        Q  "
      ]
     },
     "execution_count": 4,
     "metadata": {},
     "output_type": "execute_result"
    }
   ],
   "source": [
    "#Create a datafram  from a csv file\n",
    "df = pd.read_csv(\"..//input/titanicdataset-traincsv/train.csv\")\n",
    "df.head(6)"
   ]
  },
  {
   "cell_type": "markdown",
   "id": "bdcc9b9a",
   "metadata": {
    "papermill": {
     "duration": 0.012764,
     "end_time": "2024-01-26T20:35:33.193988",
     "exception": false,
     "start_time": "2024-01-26T20:35:33.181224",
     "status": "completed"
    },
    "tags": []
   },
   "source": [
    "A short description of what the columns represent\n",
    "\n",
    "Variable Name | Description\n",
    "--------------|-------------\n",
    "Survived      | Survived (1) or died (0)\n",
    "Pclass        | Passenger's class\n",
    "Name          | Passenger's name\n",
    "Sex           | Passenger's sex\n",
    "Age           | Passenger's age\n",
    "SibSp         | Number of siblings/spouses aboard\n",
    "Parch         | Number of parents/children aboard\n",
    "Ticket        | Ticket number\n",
    "Fare          | Fare\n",
    "Cabin         | Cabin\n",
    "Embarked      | Port of embarkation (C = Cherbourg; Q = Queenstown; S = Southampton)"
   ]
  },
  {
   "cell_type": "code",
   "execution_count": 5,
   "id": "440b48c4",
   "metadata": {
    "execution": {
     "iopub.execute_input": "2024-01-26T20:35:33.220066Z",
     "iopub.status.busy": "2024-01-26T20:35:33.219683Z",
     "iopub.status.idle": "2024-01-26T20:35:33.244460Z",
     "shell.execute_reply": "2024-01-26T20:35:33.243224Z"
    },
    "papermill": {
     "duration": 0.041101,
     "end_time": "2024-01-26T20:35:33.247094",
     "exception": false,
     "start_time": "2024-01-26T20:35:33.205993",
     "status": "completed"
    },
    "tags": []
   },
   "outputs": [
    {
     "name": "stdout",
     "output_type": "stream",
     "text": [
      "<class 'pandas.core.frame.DataFrame'>\n",
      "RangeIndex: 891 entries, 0 to 890\n",
      "Data columns (total 12 columns):\n",
      " #   Column       Non-Null Count  Dtype  \n",
      "---  ------       --------------  -----  \n",
      " 0   PassengerId  891 non-null    int64  \n",
      " 1   Survived     891 non-null    int64  \n",
      " 2   Pclass       891 non-null    int64  \n",
      " 3   Name         891 non-null    object \n",
      " 4   Sex          891 non-null    object \n",
      " 5   Age          714 non-null    float64\n",
      " 6   SibSp        891 non-null    int64  \n",
      " 7   Parch        891 non-null    int64  \n",
      " 8   Ticket       891 non-null    object \n",
      " 9   Fare         891 non-null    float64\n",
      " 10  Cabin        204 non-null    object \n",
      " 11  Embarked     889 non-null    object \n",
      "dtypes: float64(2), int64(5), object(5)\n",
      "memory usage: 83.7+ KB\n"
     ]
    }
   ],
   "source": [
    "# Inspecting dataframe\n",
    "df.info()"
   ]
  },
  {
   "cell_type": "code",
   "execution_count": 6,
   "id": "fb3b4258",
   "metadata": {
    "execution": {
     "iopub.execute_input": "2024-01-26T20:35:33.273773Z",
     "iopub.status.busy": "2024-01-26T20:35:33.273357Z",
     "iopub.status.idle": "2024-01-26T20:35:33.282308Z",
     "shell.execute_reply": "2024-01-26T20:35:33.281035Z"
    },
    "papermill": {
     "duration": 0.025025,
     "end_time": "2024-01-26T20:35:33.284654",
     "exception": false,
     "start_time": "2024-01-26T20:35:33.259629",
     "status": "completed"
    },
    "tags": []
   },
   "outputs": [
    {
     "data": {
      "text/plain": [
       "PassengerId      int64\n",
       "Survived         int64\n",
       "Pclass           int64\n",
       "Name            object\n",
       "Sex             object\n",
       "Age            float64\n",
       "SibSp            int64\n",
       "Parch            int64\n",
       "Ticket          object\n",
       "Fare           float64\n",
       "Cabin           object\n",
       "Embarked        object\n",
       "dtype: object"
      ]
     },
     "execution_count": 6,
     "metadata": {},
     "output_type": "execute_result"
    }
   ],
   "source": [
    "df.dtypes"
   ]
  },
  {
   "cell_type": "code",
   "execution_count": 7,
   "id": "68ae4aab",
   "metadata": {
    "execution": {
     "iopub.execute_input": "2024-01-26T20:35:33.312105Z",
     "iopub.status.busy": "2024-01-26T20:35:33.311278Z",
     "iopub.status.idle": "2024-01-26T20:35:33.318465Z",
     "shell.execute_reply": "2024-01-26T20:35:33.317322Z"
    },
    "papermill": {
     "duration": 0.023669,
     "end_time": "2024-01-26T20:35:33.320699",
     "exception": false,
     "start_time": "2024-01-26T20:35:33.297030",
     "status": "completed"
    },
    "tags": []
   },
   "outputs": [
    {
     "data": {
      "text/plain": [
       "(891, 12)"
      ]
     },
     "execution_count": 7,
     "metadata": {},
     "output_type": "execute_result"
    }
   ],
   "source": [
    "df.shape      # Check dimensions"
   ]
  },
  {
   "cell_type": "code",
   "execution_count": 8,
   "id": "1fef2d07",
   "metadata": {
    "execution": {
     "iopub.execute_input": "2024-01-26T20:35:33.347765Z",
     "iopub.status.busy": "2024-01-26T20:35:33.346923Z",
     "iopub.status.idle": "2024-01-26T20:35:33.379311Z",
     "shell.execute_reply": "2024-01-26T20:35:33.378198Z"
    },
    "papermill": {
     "duration": 0.048852,
     "end_time": "2024-01-26T20:35:33.381838",
     "exception": false,
     "start_time": "2024-01-26T20:35:33.332986",
     "status": "completed"
    },
    "tags": []
   },
   "outputs": [
    {
     "data": {
      "text/html": [
       "<div>\n",
       "<style scoped>\n",
       "    .dataframe tbody tr th:only-of-type {\n",
       "        vertical-align: middle;\n",
       "    }\n",
       "\n",
       "    .dataframe tbody tr th {\n",
       "        vertical-align: top;\n",
       "    }\n",
       "\n",
       "    .dataframe thead th {\n",
       "        text-align: right;\n",
       "    }\n",
       "</style>\n",
       "<table border=\"1\" class=\"dataframe\">\n",
       "  <thead>\n",
       "    <tr style=\"text-align: right;\">\n",
       "      <th></th>\n",
       "      <th>PassengerId</th>\n",
       "      <th>Survived</th>\n",
       "      <th>Pclass</th>\n",
       "      <th>Age</th>\n",
       "      <th>SibSp</th>\n",
       "      <th>Parch</th>\n",
       "      <th>Fare</th>\n",
       "    </tr>\n",
       "  </thead>\n",
       "  <tbody>\n",
       "    <tr>\n",
       "      <th>count</th>\n",
       "      <td>891.000000</td>\n",
       "      <td>891.000000</td>\n",
       "      <td>891.000000</td>\n",
       "      <td>714.000000</td>\n",
       "      <td>891.000000</td>\n",
       "      <td>891.000000</td>\n",
       "      <td>891.000000</td>\n",
       "    </tr>\n",
       "    <tr>\n",
       "      <th>mean</th>\n",
       "      <td>446.000000</td>\n",
       "      <td>0.383838</td>\n",
       "      <td>2.308642</td>\n",
       "      <td>29.699118</td>\n",
       "      <td>0.523008</td>\n",
       "      <td>0.381594</td>\n",
       "      <td>32.204208</td>\n",
       "    </tr>\n",
       "    <tr>\n",
       "      <th>std</th>\n",
       "      <td>257.353842</td>\n",
       "      <td>0.486592</td>\n",
       "      <td>0.836071</td>\n",
       "      <td>14.526497</td>\n",
       "      <td>1.102743</td>\n",
       "      <td>0.806057</td>\n",
       "      <td>49.693429</td>\n",
       "    </tr>\n",
       "    <tr>\n",
       "      <th>min</th>\n",
       "      <td>1.000000</td>\n",
       "      <td>0.000000</td>\n",
       "      <td>1.000000</td>\n",
       "      <td>0.420000</td>\n",
       "      <td>0.000000</td>\n",
       "      <td>0.000000</td>\n",
       "      <td>0.000000</td>\n",
       "    </tr>\n",
       "    <tr>\n",
       "      <th>25%</th>\n",
       "      <td>223.500000</td>\n",
       "      <td>0.000000</td>\n",
       "      <td>2.000000</td>\n",
       "      <td>20.125000</td>\n",
       "      <td>0.000000</td>\n",
       "      <td>0.000000</td>\n",
       "      <td>7.910400</td>\n",
       "    </tr>\n",
       "    <tr>\n",
       "      <th>50%</th>\n",
       "      <td>446.000000</td>\n",
       "      <td>0.000000</td>\n",
       "      <td>3.000000</td>\n",
       "      <td>28.000000</td>\n",
       "      <td>0.000000</td>\n",
       "      <td>0.000000</td>\n",
       "      <td>14.454200</td>\n",
       "    </tr>\n",
       "    <tr>\n",
       "      <th>75%</th>\n",
       "      <td>668.500000</td>\n",
       "      <td>1.000000</td>\n",
       "      <td>3.000000</td>\n",
       "      <td>38.000000</td>\n",
       "      <td>1.000000</td>\n",
       "      <td>0.000000</td>\n",
       "      <td>31.000000</td>\n",
       "    </tr>\n",
       "    <tr>\n",
       "      <th>max</th>\n",
       "      <td>891.000000</td>\n",
       "      <td>1.000000</td>\n",
       "      <td>3.000000</td>\n",
       "      <td>80.000000</td>\n",
       "      <td>8.000000</td>\n",
       "      <td>6.000000</td>\n",
       "      <td>512.329200</td>\n",
       "    </tr>\n",
       "  </tbody>\n",
       "</table>\n",
       "</div>"
      ],
      "text/plain": [
       "       PassengerId    Survived      Pclass         Age       SibSp  \\\n",
       "count   891.000000  891.000000  891.000000  714.000000  891.000000   \n",
       "mean    446.000000    0.383838    2.308642   29.699118    0.523008   \n",
       "std     257.353842    0.486592    0.836071   14.526497    1.102743   \n",
       "min       1.000000    0.000000    1.000000    0.420000    0.000000   \n",
       "25%     223.500000    0.000000    2.000000   20.125000    0.000000   \n",
       "50%     446.000000    0.000000    3.000000   28.000000    0.000000   \n",
       "75%     668.500000    1.000000    3.000000   38.000000    1.000000   \n",
       "max     891.000000    1.000000    3.000000   80.000000    8.000000   \n",
       "\n",
       "            Parch        Fare  \n",
       "count  891.000000  891.000000  \n",
       "mean     0.381594   32.204208  \n",
       "std      0.806057   49.693429  \n",
       "min      0.000000    0.000000  \n",
       "25%      0.000000    7.910400  \n",
       "50%      0.000000   14.454200  \n",
       "75%      0.000000   31.000000  \n",
       "max      6.000000  512.329200  "
      ]
     },
     "execution_count": 8,
     "metadata": {},
     "output_type": "execute_result"
    }
   ],
   "source": [
    "# Getting a quick look at all the numerical data and their \n",
    "# descriptive statistics include those that summarize the central tendency,\n",
    "# dispersion and shape of a dataset’s distribution\n",
    "df.describe()"
   ]
  },
  {
   "cell_type": "code",
   "execution_count": 9,
   "id": "54e27083",
   "metadata": {
    "execution": {
     "iopub.execute_input": "2024-01-26T20:35:33.472782Z",
     "iopub.status.busy": "2024-01-26T20:35:33.472388Z",
     "iopub.status.idle": "2024-01-26T20:35:33.478650Z",
     "shell.execute_reply": "2024-01-26T20:35:33.477406Z"
    },
    "papermill": {
     "duration": 0.086018,
     "end_time": "2024-01-26T20:35:33.481335",
     "exception": false,
     "start_time": "2024-01-26T20:35:33.395317",
     "status": "completed"
    },
    "tags": []
   },
   "outputs": [
    {
     "name": "stdout",
     "output_type": "stream",
     "text": [
      "177\n"
     ]
    }
   ],
   "source": [
    "print(df[\"Age\"].isnull().sum())"
   ]
  },
  {
   "cell_type": "markdown",
   "id": "76adb9f7",
   "metadata": {
    "papermill": {
     "duration": 0.013089,
     "end_time": "2024-01-26T20:35:33.507486",
     "exception": false,
     "start_time": "2024-01-26T20:35:33.494397",
     "status": "completed"
    },
    "tags": []
   },
   "source": [
    "Columns \"Age\" has 177 null values, we can try to impute it with some central values. Based on the statistic description table above, the mean and meadian for this attribute are 29 and 28 respectively. We can impute these two values into the missing data."
   ]
  },
  {
   "cell_type": "code",
   "execution_count": 10,
   "id": "c51a91da",
   "metadata": {
    "execution": {
     "iopub.execute_input": "2024-01-26T20:35:33.536052Z",
     "iopub.status.busy": "2024-01-26T20:35:33.535307Z",
     "iopub.status.idle": "2024-01-26T20:35:33.550644Z",
     "shell.execute_reply": "2024-01-26T20:35:33.549057Z"
    },
    "papermill": {
     "duration": 0.032371,
     "end_time": "2024-01-26T20:35:33.553006",
     "exception": false,
     "start_time": "2024-01-26T20:35:33.520635",
     "status": "completed"
    },
    "tags": []
   },
   "outputs": [
    {
     "name": "stdout",
     "output_type": "stream",
     "text": [
      "<class 'pandas.core.frame.DataFrame'>\n",
      "RangeIndex: 891 entries, 0 to 890\n",
      "Data columns (total 12 columns):\n",
      " #   Column       Non-Null Count  Dtype  \n",
      "---  ------       --------------  -----  \n",
      " 0   PassengerId  891 non-null    int64  \n",
      " 1   Survived     891 non-null    int64  \n",
      " 2   Pclass       891 non-null    int64  \n",
      " 3   Name         891 non-null    object \n",
      " 4   Sex          891 non-null    object \n",
      " 5   Age          891 non-null    float64\n",
      " 6   SibSp        891 non-null    int64  \n",
      " 7   Parch        891 non-null    int64  \n",
      " 8   Ticket       891 non-null    object \n",
      " 9   Fare         891 non-null    float64\n",
      " 10  Cabin        204 non-null    object \n",
      " 11  Embarked     889 non-null    object \n",
      "dtypes: float64(2), int64(5), object(5)\n",
      "memory usage: 83.7+ KB\n"
     ]
    }
   ],
   "source": [
    "df[\"Age\"] = np.where(df[\"Age\"].isnull(),            # impute the missing data with random number from 28 to 30\n",
    "                    np.random.randint(28, 31),\n",
    "                    df[\"Age\"])\n",
    "df.info()"
   ]
  },
  {
   "cell_type": "markdown",
   "id": "bcd5ab2a",
   "metadata": {
    "papermill": {
     "duration": 0.013008,
     "end_time": "2024-01-26T20:35:33.580700",
     "exception": false,
     "start_time": "2024-01-26T20:35:33.567692",
     "status": "completed"
    },
    "tags": []
   },
   "source": [
    "Next let's look at the \"Sex\" and \"Pclass\" column and inspect "
   ]
  },
  {
   "cell_type": "code",
   "execution_count": 11,
   "id": "8a838473",
   "metadata": {
    "execution": {
     "iopub.execute_input": "2024-01-26T20:35:33.610633Z",
     "iopub.status.busy": "2024-01-26T20:35:33.610040Z",
     "iopub.status.idle": "2024-01-26T20:35:33.640614Z",
     "shell.execute_reply": "2024-01-26T20:35:33.639793Z"
    },
    "papermill": {
     "duration": 0.04806,
     "end_time": "2024-01-26T20:35:33.642739",
     "exception": false,
     "start_time": "2024-01-26T20:35:33.594679",
     "status": "completed"
    },
    "tags": []
   },
   "outputs": [
    {
     "data": {
      "text/html": [
       "<div>\n",
       "<style scoped>\n",
       "    .dataframe tbody tr th:only-of-type {\n",
       "        vertical-align: middle;\n",
       "    }\n",
       "\n",
       "    .dataframe tbody tr th {\n",
       "        vertical-align: top;\n",
       "    }\n",
       "\n",
       "    .dataframe thead th {\n",
       "        text-align: right;\n",
       "    }\n",
       "</style>\n",
       "<table border=\"1\" class=\"dataframe\">\n",
       "  <thead>\n",
       "    <tr style=\"text-align: right;\">\n",
       "      <th>Sex</th>\n",
       "      <th>female</th>\n",
       "      <th>male</th>\n",
       "    </tr>\n",
       "  </thead>\n",
       "  <tbody>\n",
       "    <tr>\n",
       "      <th>Died</th>\n",
       "      <td>81</td>\n",
       "      <td>468</td>\n",
       "    </tr>\n",
       "    <tr>\n",
       "      <th>Survived</th>\n",
       "      <td>233</td>\n",
       "      <td>109</td>\n",
       "    </tr>\n",
       "  </tbody>\n",
       "</table>\n",
       "</div>"
      ],
      "text/plain": [
       "Sex       female  male\n",
       "Died          81   468\n",
       "Survived     233   109"
      ]
     },
     "execution_count": 11,
     "metadata": {},
     "output_type": "execute_result"
    }
   ],
   "source": [
    "survival_freq = pd.crosstab(index = df[\"Survived\"], columns = df[\"Sex\"] )  #making a frequency table\n",
    "survival_freq.index = [\"Died\", \"Survived\"]\n",
    "survival_freq"
   ]
  },
  {
   "cell_type": "code",
   "execution_count": 12,
   "id": "4055ecd2",
   "metadata": {
    "execution": {
     "iopub.execute_input": "2024-01-26T20:35:33.670769Z",
     "iopub.status.busy": "2024-01-26T20:35:33.670368Z",
     "iopub.status.idle": "2024-01-26T20:35:33.690790Z",
     "shell.execute_reply": "2024-01-26T20:35:33.689646Z"
    },
    "papermill": {
     "duration": 0.037512,
     "end_time": "2024-01-26T20:35:33.693380",
     "exception": false,
     "start_time": "2024-01-26T20:35:33.655868",
     "status": "completed"
    },
    "tags": []
   },
   "outputs": [
    {
     "data": {
      "text/html": [
       "<div>\n",
       "<style scoped>\n",
       "    .dataframe tbody tr th:only-of-type {\n",
       "        vertical-align: middle;\n",
       "    }\n",
       "\n",
       "    .dataframe tbody tr th {\n",
       "        vertical-align: top;\n",
       "    }\n",
       "\n",
       "    .dataframe thead th {\n",
       "        text-align: right;\n",
       "    }\n",
       "</style>\n",
       "<table border=\"1\" class=\"dataframe\">\n",
       "  <thead>\n",
       "    <tr style=\"text-align: right;\">\n",
       "      <th>Sex</th>\n",
       "      <th>female</th>\n",
       "      <th>male</th>\n",
       "    </tr>\n",
       "  </thead>\n",
       "  <tbody>\n",
       "    <tr>\n",
       "      <th>Died</th>\n",
       "      <td>0.257962</td>\n",
       "      <td>0.811092</td>\n",
       "    </tr>\n",
       "    <tr>\n",
       "      <th>Survived</th>\n",
       "      <td>0.742038</td>\n",
       "      <td>0.188908</td>\n",
       "    </tr>\n",
       "  </tbody>\n",
       "</table>\n",
       "</div>"
      ],
      "text/plain": [
       "Sex         female      male\n",
       "Died      0.257962  0.811092\n",
       "Survived  0.742038  0.188908"
      ]
     },
     "execution_count": 12,
     "metadata": {},
     "output_type": "execute_result"
    }
   ],
   "source": [
    "survival_freq = pd.crosstab(index = df[\"Survived\"], columns = df[\"Sex\"], normalize = 'columns' )  #turining it into percentage\n",
    "survival_freq.index = [\"Died\", \"Survived\"]\n",
    "survival_freq"
   ]
  },
  {
   "cell_type": "code",
   "execution_count": 13,
   "id": "b92d1eba",
   "metadata": {
    "execution": {
     "iopub.execute_input": "2024-01-26T20:35:33.721971Z",
     "iopub.status.busy": "2024-01-26T20:35:33.721582Z",
     "iopub.status.idle": "2024-01-26T20:35:33.779335Z",
     "shell.execute_reply": "2024-01-26T20:35:33.778200Z"
    },
    "papermill": {
     "duration": 0.075041,
     "end_time": "2024-01-26T20:35:33.781830",
     "exception": false,
     "start_time": "2024-01-26T20:35:33.706789",
     "status": "completed"
    },
    "tags": []
   },
   "outputs": [
    {
     "data": {
      "text/html": [
       "<div>\n",
       "<style scoped>\n",
       "    .dataframe tbody tr th:only-of-type {\n",
       "        vertical-align: middle;\n",
       "    }\n",
       "\n",
       "    .dataframe tbody tr th {\n",
       "        vertical-align: top;\n",
       "    }\n",
       "\n",
       "    .dataframe thead th {\n",
       "        text-align: right;\n",
       "    }\n",
       "</style>\n",
       "<table border=\"1\" class=\"dataframe\">\n",
       "  <thead>\n",
       "    <tr style=\"text-align: right;\">\n",
       "      <th></th>\n",
       "      <th>class1</th>\n",
       "      <th>class2</th>\n",
       "      <th>class3</th>\n",
       "      <th>total</th>\n",
       "    </tr>\n",
       "  </thead>\n",
       "  <tbody>\n",
       "    <tr>\n",
       "      <th>died</th>\n",
       "      <td>0.089787</td>\n",
       "      <td>0.108866</td>\n",
       "      <td>0.417508</td>\n",
       "      <td>0.616162</td>\n",
       "    </tr>\n",
       "    <tr>\n",
       "      <th>survived</th>\n",
       "      <td>0.152637</td>\n",
       "      <td>0.097643</td>\n",
       "      <td>0.133558</td>\n",
       "      <td>0.383838</td>\n",
       "    </tr>\n",
       "    <tr>\n",
       "      <th>total</th>\n",
       "      <td>0.242424</td>\n",
       "      <td>0.206510</td>\n",
       "      <td>0.551066</td>\n",
       "      <td>1.000000</td>\n",
       "    </tr>\n",
       "  </tbody>\n",
       "</table>\n",
       "</div>"
      ],
      "text/plain": [
       "            class1    class2    class3     total\n",
       "died      0.089787  0.108866  0.417508  0.616162\n",
       "survived  0.152637  0.097643  0.133558  0.383838\n",
       "total     0.242424  0.206510  0.551066  1.000000"
      ]
     },
     "execution_count": 13,
     "metadata": {},
     "output_type": "execute_result"
    }
   ],
   "source": [
    "survived_class = pd.crosstab(index=df[\"Survived\"], \n",
    "                            columns=df[\"Pclass\"], margins = True, normalize = True) #making a frequency table and adding the subtotal\n",
    "\n",
    "survived_class.columns = [\"class1\",\"class2\",\"class3\", \"total\"]\n",
    "survived_class.index= [\"died\",\"survived\",\"total\"]\n",
    "survived_class"
   ]
  },
  {
   "cell_type": "markdown",
   "id": "3f809598",
   "metadata": {
    "papermill": {
     "duration": 0.013995,
     "end_time": "2024-01-26T20:35:33.809940",
     "exception": false,
     "start_time": "2024-01-26T20:35:33.795945",
     "status": "completed"
    },
    "tags": []
   },
   "source": [
    "Transformed it into percentage, we can see that a only a large percent of male passenger died while a small percentage of female passengers died. Class 3 has the most passengers and also has the most fetality among the passenger classes. \\\n",
    "Since the passenger class columns only has three unique values, we can reclassify it as a category"
   ]
  },
  {
   "cell_type": "code",
   "execution_count": 14,
   "id": "808f2fee",
   "metadata": {
    "execution": {
     "iopub.execute_input": "2024-01-26T20:35:33.839101Z",
     "iopub.status.busy": "2024-01-26T20:35:33.838653Z",
     "iopub.status.idle": "2024-01-26T20:35:33.843715Z",
     "shell.execute_reply": "2024-01-26T20:35:33.842634Z"
    },
    "papermill": {
     "duration": 0.022327,
     "end_time": "2024-01-26T20:35:33.846013",
     "exception": false,
     "start_time": "2024-01-26T20:35:33.823686",
     "status": "completed"
    },
    "tags": []
   },
   "outputs": [],
   "source": [
    "# new_Pclass = pd.Categorical(df[\"Pclass\"],\n",
    "                           #ordered=True)\n",
    "\n",
    "#new_Pclass = new_Pclass.rename_categories([\"Class1\",\"Class2\",\"Class3\"])     \n",
    "\n",
    "#new_Pclass.describe() "
   ]
  },
  {
   "cell_type": "code",
   "execution_count": 15,
   "id": "d0dd12a5",
   "metadata": {
    "execution": {
     "iopub.execute_input": "2024-01-26T20:35:33.874859Z",
     "iopub.status.busy": "2024-01-26T20:35:33.874435Z",
     "iopub.status.idle": "2024-01-26T20:35:33.879342Z",
     "shell.execute_reply": "2024-01-26T20:35:33.878043Z"
    },
    "papermill": {
     "duration": 0.022076,
     "end_time": "2024-01-26T20:35:33.881669",
     "exception": false,
     "start_time": "2024-01-26T20:35:33.859593",
     "status": "completed"
    },
    "tags": []
   },
   "outputs": [],
   "source": [
    "#df[\"Pclass\"] = new_Pclass    #Updated new dataframe\n",
    "# df"
   ]
  },
  {
   "cell_type": "code",
   "execution_count": 16,
   "id": "c936e64e",
   "metadata": {
    "execution": {
     "iopub.execute_input": "2024-01-26T20:35:33.910955Z",
     "iopub.status.busy": "2024-01-26T20:35:33.910081Z",
     "iopub.status.idle": "2024-01-26T20:35:33.918569Z",
     "shell.execute_reply": "2024-01-26T20:35:33.917259Z"
    },
    "papermill": {
     "duration": 0.025627,
     "end_time": "2024-01-26T20:35:33.920877",
     "exception": false,
     "start_time": "2024-01-26T20:35:33.895250",
     "status": "completed"
    },
    "tags": []
   },
   "outputs": [
    {
     "data": {
      "text/plain": [
       "0            A/5 21171\n",
       "1             PC 17599\n",
       "2     STON/O2. 3101282\n",
       "3               113803\n",
       "4               373450\n",
       "5               330877\n",
       "6                17463\n",
       "7               349909\n",
       "8               347742\n",
       "9               237736\n",
       "10             PP 9549\n",
       "11              113783\n",
       "12           A/5. 2151\n",
       "13              347082\n",
       "14              350406\n",
       "Name: Ticket, dtype: object"
      ]
     },
     "execution_count": 16,
     "metadata": {},
     "output_type": "execute_result"
    }
   ],
   "source": [
    "df[\"Ticket\"][0:15]   #inspecting the \"Ticket\" columns"
   ]
  },
  {
   "cell_type": "code",
   "execution_count": 17,
   "id": "c8ab2566",
   "metadata": {
    "execution": {
     "iopub.execute_input": "2024-01-26T20:35:33.950799Z",
     "iopub.status.busy": "2024-01-26T20:35:33.950373Z",
     "iopub.status.idle": "2024-01-26T20:35:33.960112Z",
     "shell.execute_reply": "2024-01-26T20:35:33.959212Z"
    },
    "papermill": {
     "duration": 0.027519,
     "end_time": "2024-01-26T20:35:33.962504",
     "exception": false,
     "start_time": "2024-01-26T20:35:33.934985",
     "status": "completed"
    },
    "tags": []
   },
   "outputs": [
    {
     "data": {
      "text/plain": [
       "count        891\n",
       "unique       681\n",
       "top       347082\n",
       "freq           7\n",
       "Name: Ticket, dtype: object"
      ]
     },
     "execution_count": 17,
     "metadata": {},
     "output_type": "execute_result"
    }
   ],
   "source": [
    "df[\"Ticket\"].describe()"
   ]
  },
  {
   "cell_type": "markdown",
   "id": "1d0f9697",
   "metadata": {
    "papermill": {
     "duration": 0.014055,
     "end_time": "2024-01-26T20:35:33.990346",
     "exception": false,
     "start_time": "2024-01-26T20:35:33.976291",
     "status": "completed"
    },
    "tags": []
   },
   "source": [
    "Ticket has 680 unique values: almost as many as there are passengers. Categorical variables with almost as many levels as there are records are often not very useful for prediction. We could try to reduce the number of levels by grouping certain tickets together, but the ticket numbers don't appear to follow any logical pattern we could use for grouping. We can remove it"
   ]
  },
  {
   "cell_type": "code",
   "execution_count": 18,
   "id": "9690b459",
   "metadata": {
    "execution": {
     "iopub.execute_input": "2024-01-26T20:35:34.019759Z",
     "iopub.status.busy": "2024-01-26T20:35:34.019328Z",
     "iopub.status.idle": "2024-01-26T20:35:34.024805Z",
     "shell.execute_reply": "2024-01-26T20:35:34.023629Z"
    },
    "papermill": {
     "duration": 0.023177,
     "end_time": "2024-01-26T20:35:34.027360",
     "exception": false,
     "start_time": "2024-01-26T20:35:34.004183",
     "status": "completed"
    },
    "tags": []
   },
   "outputs": [],
   "source": [
    "del df[\"Ticket\"]"
   ]
  },
  {
   "cell_type": "markdown",
   "id": "f738b364",
   "metadata": {
    "papermill": {
     "duration": 0.013496,
     "end_time": "2024-01-26T20:35:34.054782",
     "exception": false,
     "start_time": "2024-01-26T20:35:34.041286",
     "status": "completed"
    },
    "tags": []
   },
   "source": [
    "Now we can look the how much each passenger pay for their ticket and construct a boxplot to define  any outlier as it could potentially skew out data"
   ]
  },
  {
   "cell_type": "code",
   "execution_count": 19,
   "id": "0bee45b2",
   "metadata": {
    "execution": {
     "iopub.execute_input": "2024-01-26T20:35:34.084499Z",
     "iopub.status.busy": "2024-01-26T20:35:34.084021Z",
     "iopub.status.idle": "2024-01-26T20:35:34.095574Z",
     "shell.execute_reply": "2024-01-26T20:35:34.094524Z"
    },
    "papermill": {
     "duration": 0.02899,
     "end_time": "2024-01-26T20:35:34.097725",
     "exception": false,
     "start_time": "2024-01-26T20:35:34.068735",
     "status": "completed"
    },
    "tags": []
   },
   "outputs": [
    {
     "data": {
      "text/plain": [
       "count    891.000000\n",
       "mean      32.204208\n",
       "std       49.693429\n",
       "min        0.000000\n",
       "25%        7.910400\n",
       "50%       14.454200\n",
       "75%       31.000000\n",
       "max      512.329200\n",
       "Name: Fare, dtype: float64"
      ]
     },
     "execution_count": 19,
     "metadata": {},
     "output_type": "execute_result"
    }
   ],
   "source": [
    "df[\"Fare\"].describe()   #inspecting the \"Fare\"  column"
   ]
  },
  {
   "cell_type": "code",
   "execution_count": 20,
   "id": "02e03eac",
   "metadata": {
    "execution": {
     "iopub.execute_input": "2024-01-26T20:35:34.127400Z",
     "iopub.status.busy": "2024-01-26T20:35:34.127007Z",
     "iopub.status.idle": "2024-01-26T20:35:34.142717Z",
     "shell.execute_reply": "2024-01-26T20:35:34.141548Z"
    },
    "papermill": {
     "duration": 0.033398,
     "end_time": "2024-01-26T20:35:34.144997",
     "exception": false,
     "start_time": "2024-01-26T20:35:34.111599",
     "status": "completed"
    },
    "tags": []
   },
   "outputs": [
    {
     "data": {
      "text/plain": [
       "count    856.000000\n",
       "mean      26.995068\n",
       "std       29.394578\n",
       "min        4.012500\n",
       "25%        7.925000\n",
       "50%       14.454200\n",
       "75%       30.017700\n",
       "max      164.866700\n",
       "Name: Fare, dtype: float64"
      ]
     },
     "execution_count": 20,
     "metadata": {},
     "output_type": "execute_result"
    }
   ],
   "source": [
    "new_df = df.query(\"Fare < 200 & Fare > 0\")\n",
    "\n",
    "new_df[\"Fare\"].describe()"
   ]
  },
  {
   "cell_type": "code",
   "execution_count": 21,
   "id": "dbcf7125",
   "metadata": {
    "execution": {
     "iopub.execute_input": "2024-01-26T20:35:34.175198Z",
     "iopub.status.busy": "2024-01-26T20:35:34.174796Z",
     "iopub.status.idle": "2024-01-26T20:35:34.450110Z",
     "shell.execute_reply": "2024-01-26T20:35:34.449191Z"
    },
    "papermill": {
     "duration": 0.29335,
     "end_time": "2024-01-26T20:35:34.452365",
     "exception": false,
     "start_time": "2024-01-26T20:35:34.159015",
     "status": "completed"
    },
    "tags": []
   },
   "outputs": [
    {
     "data": {
      "text/plain": [
       "<Axes: >"
      ]
     },
     "execution_count": 21,
     "metadata": {},
     "output_type": "execute_result"
    },
    {
     "data": {
      "image/png": "[encoded data removed]",
      "text/plain": [
       "<Figure size 800x800 with 1 Axes>"
      ]
     },
     "metadata": {},
     "output_type": "display_data"
    }
   ],
   "source": [
    "df.boxplot(column = 'Fare', figsize = (8,8))"
   ]
  },
  {
   "cell_type": "markdown",
   "id": "5681f7f0",
   "metadata": {
    "papermill": {
     "duration": 0.014287,
     "end_time": "2024-01-26T20:35:34.481307",
     "exception": false,
     "start_time": "2024-01-26T20:35:34.467020",
     "status": "completed"
    },
    "tags": []
   },
   "source": [
    "We can see that there is one value that is over 200 and one value that is over 500, and a the minimum fare is 0 which  does not make a lot of sense. There outlier can be filtered out"
   ]
  },
  {
   "cell_type": "code",
   "execution_count": 22,
   "id": "765b6fa2",
   "metadata": {
    "execution": {
     "iopub.execute_input": "2024-01-26T20:35:34.512669Z",
     "iopub.status.busy": "2024-01-26T20:35:34.511541Z",
     "iopub.status.idle": "2024-01-26T20:35:34.753958Z",
     "shell.execute_reply": "2024-01-26T20:35:34.752283Z"
    },
    "papermill": {
     "duration": 0.262131,
     "end_time": "2024-01-26T20:35:34.757875",
     "exception": false,
     "start_time": "2024-01-26T20:35:34.495744",
     "status": "completed"
    },
    "tags": []
   },
   "outputs": [
    {
     "data": {
      "text/plain": [
       "<Axes: >"
      ]
     },
     "execution_count": 22,
     "metadata": {},
     "output_type": "execute_result"
    },
    {
     "data": {
      "image/png": "[encoded data removed]",
      "text/plain": [
       "<Figure size 800x800 with 1 Axes>"
      ]
     },
     "metadata": {},
     "output_type": "display_data"
    }
   ],
   "source": [
    "new_df.boxplot(column = 'Fare', figsize = (8,8))"
   ]
  },
  {
   "cell_type": "code",
   "execution_count": 23,
   "id": "d9e41547",
   "metadata": {
    "execution": {
     "iopub.execute_input": "2024-01-26T20:35:34.791896Z",
     "iopub.status.busy": "2024-01-26T20:35:34.791430Z",
     "iopub.status.idle": "2024-01-26T20:35:34.800891Z",
     "shell.execute_reply": "2024-01-26T20:35:34.799831Z"
    },
    "papermill": {
     "duration": 0.028944,
     "end_time": "2024-01-26T20:35:34.803191",
     "exception": false,
     "start_time": "2024-01-26T20:35:34.774247",
     "status": "completed"
    },
    "tags": []
   },
   "outputs": [
    {
     "data": {
      "text/plain": [
       "count         204\n",
       "unique        147\n",
       "top       B96 B98\n",
       "freq            4\n",
       "Name: Cabin, dtype: object"
      ]
     },
     "execution_count": 23,
     "metadata": {},
     "output_type": "execute_result"
    }
   ],
   "source": [
    "df[\"Cabin\"].describe()"
   ]
  },
  {
   "cell_type": "code",
   "execution_count": 24,
   "id": "98649f59",
   "metadata": {
    "execution": {
     "iopub.execute_input": "2024-01-26T20:35:34.835231Z",
     "iopub.status.busy": "2024-01-26T20:35:34.834779Z",
     "iopub.status.idle": "2024-01-26T20:35:34.842584Z",
     "shell.execute_reply": "2024-01-26T20:35:34.841352Z"
    },
    "papermill": {
     "duration": 0.026564,
     "end_time": "2024-01-26T20:35:34.844988",
     "exception": false,
     "start_time": "2024-01-26T20:35:34.818424",
     "status": "completed"
    },
    "tags": []
   },
   "outputs": [
    {
     "data": {
      "text/plain": [
       "array([nan, 'C85', 'C123', 'E46', 'G6', 'C103', 'D56', 'A6',\n",
       "       'C23 C25 C27', 'B78', 'D33', 'B30', 'C52', 'B28', 'C83', 'F33',\n",
       "       'F G73', 'E31', 'A5', 'D10 D12', 'D26', 'C110', 'B58 B60', 'E101',\n",
       "       'F E69', 'D47', 'B86', 'F2', 'C2', 'E33', 'B19', 'A7', 'C49', 'F4',\n",
       "       'A32', 'B4', 'B80', 'A31', 'D36', 'D15', 'C93', 'C78', 'D35',\n",
       "       'C87', 'B77', 'E67', 'B94', 'C125', 'C99', 'C118', 'D7', 'A19',\n",
       "       'B49', 'D', 'C22 C26', 'C106', 'C65', 'E36', 'C54',\n",
       "       'B57 B59 B63 B66', 'C7', 'E34', 'C32', 'B18', 'C124', 'C91', 'E40',\n",
       "       'T', 'C128', 'D37', 'B35', 'E50', 'C82', 'B96 B98', 'E10', 'E44',\n",
       "       'A34', 'C104', 'C111', 'C92', 'E38', 'D21', 'E12', 'E63', 'A14',\n",
       "       'B37', 'C30', 'D20', 'B79', 'E25', 'D46', 'B73', 'C95', 'B38',\n",
       "       'B39', 'B22', 'C86', 'C70', 'A16', 'C101', 'C68', 'A10', 'E68',\n",
       "       'B41', 'A20', 'D19', 'D50', 'D9', 'A23', 'B50', 'A26', 'D48',\n",
       "       'E58', 'C126', 'B71', 'B51 B53 B55', 'D49', 'B5', 'B20', 'F G63',\n",
       "       'C62 C64', 'E24', 'C90', 'C45', 'E8', 'B101', 'D45', 'C46', 'D30',\n",
       "       'E121', 'D11', 'E77', 'F38', 'B3', 'D6', 'B82 B84', 'D17', 'A36',\n",
       "       'B102', 'B69', 'E49', 'C47', 'D28', 'E17', 'A24', 'C50', 'B42',\n",
       "       'C148'], dtype=object)"
      ]
     },
     "execution_count": 24,
     "metadata": {},
     "output_type": "execute_result"
    }
   ],
   "source": [
    "df[\"Cabin\"].unique()"
   ]
  },
  {
   "cell_type": "code",
   "execution_count": 25,
   "id": "474ead53",
   "metadata": {
    "execution": {
     "iopub.execute_input": "2024-01-26T20:35:34.877032Z",
     "iopub.status.busy": "2024-01-26T20:35:34.876615Z",
     "iopub.status.idle": "2024-01-26T20:35:34.892218Z",
     "shell.execute_reply": "2024-01-26T20:35:34.891124Z"
    },
    "papermill": {
     "duration": 0.034483,
     "end_time": "2024-01-26T20:35:34.894590",
     "exception": false,
     "start_time": "2024-01-26T20:35:34.860107",
     "status": "completed"
    },
    "tags": []
   },
   "outputs": [
    {
     "data": {
      "text/html": [
       "<div>\n",
       "<style scoped>\n",
       "    .dataframe tbody tr th:only-of-type {\n",
       "        vertical-align: middle;\n",
       "    }\n",
       "\n",
       "    .dataframe tbody tr th {\n",
       "        vertical-align: top;\n",
       "    }\n",
       "\n",
       "    .dataframe thead th {\n",
       "        text-align: right;\n",
       "    }\n",
       "</style>\n",
       "<table border=\"1\" class=\"dataframe\">\n",
       "  <thead>\n",
       "    <tr style=\"text-align: right;\">\n",
       "      <th></th>\n",
       "      <th>counts</th>\n",
       "      <th>freqs</th>\n",
       "    </tr>\n",
       "    <tr>\n",
       "      <th>categories</th>\n",
       "      <th></th>\n",
       "      <th></th>\n",
       "    </tr>\n",
       "  </thead>\n",
       "  <tbody>\n",
       "    <tr>\n",
       "      <th>A</th>\n",
       "      <td>15</td>\n",
       "      <td>0.016835</td>\n",
       "    </tr>\n",
       "    <tr>\n",
       "      <th>B</th>\n",
       "      <td>47</td>\n",
       "      <td>0.052750</td>\n",
       "    </tr>\n",
       "    <tr>\n",
       "      <th>C</th>\n",
       "      <td>59</td>\n",
       "      <td>0.066218</td>\n",
       "    </tr>\n",
       "    <tr>\n",
       "      <th>D</th>\n",
       "      <td>33</td>\n",
       "      <td>0.037037</td>\n",
       "    </tr>\n",
       "    <tr>\n",
       "      <th>E</th>\n",
       "      <td>32</td>\n",
       "      <td>0.035915</td>\n",
       "    </tr>\n",
       "    <tr>\n",
       "      <th>F</th>\n",
       "      <td>13</td>\n",
       "      <td>0.014590</td>\n",
       "    </tr>\n",
       "    <tr>\n",
       "      <th>G</th>\n",
       "      <td>4</td>\n",
       "      <td>0.004489</td>\n",
       "    </tr>\n",
       "    <tr>\n",
       "      <th>T</th>\n",
       "      <td>1</td>\n",
       "      <td>0.001122</td>\n",
       "    </tr>\n",
       "    <tr>\n",
       "      <th>n</th>\n",
       "      <td>687</td>\n",
       "      <td>0.771044</td>\n",
       "    </tr>\n",
       "  </tbody>\n",
       "</table>\n",
       "</div>"
      ],
      "text/plain": [
       "            counts     freqs\n",
       "categories                  \n",
       "A               15  0.016835\n",
       "B               47  0.052750\n",
       "C               59  0.066218\n",
       "D               33  0.037037\n",
       "E               32  0.035915\n",
       "F               13  0.014590\n",
       "G                4  0.004489\n",
       "T                1  0.001122\n",
       "n              687  0.771044"
      ]
     },
     "execution_count": 25,
     "metadata": {},
     "output_type": "execute_result"
    }
   ],
   "source": [
    "char_cabin = df[\"Cabin\"].astype(str)  #converting data to str\n",
    "new_cabin = np.array([cabin[0] for cabin in char_cabin])  #take the first letter from cabin\n",
    "new_cabin = pd.Categorical(new_cabin)\n",
    "new_cabin.describe()"
   ]
  },
  {
   "cell_type": "code",
   "execution_count": 26,
   "id": "e256a306",
   "metadata": {
    "execution": {
     "iopub.execute_input": "2024-01-26T20:35:34.927270Z",
     "iopub.status.busy": "2024-01-26T20:35:34.926826Z",
     "iopub.status.idle": "2024-01-26T20:35:34.932609Z",
     "shell.execute_reply": "2024-01-26T20:35:34.931485Z"
    },
    "papermill": {
     "duration": 0.024815,
     "end_time": "2024-01-26T20:35:34.934715",
     "exception": false,
     "start_time": "2024-01-26T20:35:34.909900",
     "status": "completed"
    },
    "tags": []
   },
   "outputs": [],
   "source": [
    "df[\"Cabin\"] = new_cabin  #replace the \"Cabin\" column with only the first letter"
   ]
  },
  {
   "cell_type": "code",
   "execution_count": 27,
   "id": "e2102cd0",
   "metadata": {
    "execution": {
     "iopub.execute_input": "2024-01-26T20:35:34.967430Z",
     "iopub.status.busy": "2024-01-26T20:35:34.966991Z",
     "iopub.status.idle": "2024-01-26T20:35:34.987595Z",
     "shell.execute_reply": "2024-01-26T20:35:34.986257Z"
    },
    "papermill": {
     "duration": 0.039536,
     "end_time": "2024-01-26T20:35:34.989799",
     "exception": false,
     "start_time": "2024-01-26T20:35:34.950263",
     "status": "completed"
    },
    "tags": []
   },
   "outputs": [
    {
     "data": {
      "text/html": [
       "<div>\n",
       "<style scoped>\n",
       "    .dataframe tbody tr th:only-of-type {\n",
       "        vertical-align: middle;\n",
       "    }\n",
       "\n",
       "    .dataframe tbody tr th {\n",
       "        vertical-align: top;\n",
       "    }\n",
       "\n",
       "    .dataframe thead th {\n",
       "        text-align: right;\n",
       "    }\n",
       "</style>\n",
       "<table border=\"1\" class=\"dataframe\">\n",
       "  <thead>\n",
       "    <tr style=\"text-align: right;\">\n",
       "      <th></th>\n",
       "      <th>PassengerId</th>\n",
       "      <th>Survived</th>\n",
       "      <th>Pclass</th>\n",
       "      <th>Name</th>\n",
       "      <th>Sex</th>\n",
       "      <th>Age</th>\n",
       "      <th>SibSp</th>\n",
       "      <th>Parch</th>\n",
       "      <th>Fare</th>\n",
       "      <th>Cabin</th>\n",
       "      <th>Embarked</th>\n",
       "    </tr>\n",
       "  </thead>\n",
       "  <tbody>\n",
       "    <tr>\n",
       "      <th>0</th>\n",
       "      <td>1</td>\n",
       "      <td>0</td>\n",
       "      <td>3</td>\n",
       "      <td>Braund, Mr. Owen Harris</td>\n",
       "      <td>male</td>\n",
       "      <td>22.0</td>\n",
       "      <td>1</td>\n",
       "      <td>0</td>\n",
       "      <td>7.2500</td>\n",
       "      <td>n</td>\n",
       "      <td>S</td>\n",
       "    </tr>\n",
       "    <tr>\n",
       "      <th>1</th>\n",
       "      <td>2</td>\n",
       "      <td>1</td>\n",
       "      <td>1</td>\n",
       "      <td>Cumings, Mrs. John Bradley (Florence Briggs Th...</td>\n",
       "      <td>female</td>\n",
       "      <td>38.0</td>\n",
       "      <td>1</td>\n",
       "      <td>0</td>\n",
       "      <td>71.2833</td>\n",
       "      <td>C</td>\n",
       "      <td>C</td>\n",
       "    </tr>\n",
       "    <tr>\n",
       "      <th>2</th>\n",
       "      <td>3</td>\n",
       "      <td>1</td>\n",
       "      <td>3</td>\n",
       "      <td>Heikkinen, Miss. Laina</td>\n",
       "      <td>female</td>\n",
       "      <td>26.0</td>\n",
       "      <td>0</td>\n",
       "      <td>0</td>\n",
       "      <td>7.9250</td>\n",
       "      <td>n</td>\n",
       "      <td>S</td>\n",
       "    </tr>\n",
       "    <tr>\n",
       "      <th>3</th>\n",
       "      <td>4</td>\n",
       "      <td>1</td>\n",
       "      <td>1</td>\n",
       "      <td>Futrelle, Mrs. Jacques Heath (Lily May Peel)</td>\n",
       "      <td>female</td>\n",
       "      <td>35.0</td>\n",
       "      <td>1</td>\n",
       "      <td>0</td>\n",
       "      <td>53.1000</td>\n",
       "      <td>C</td>\n",
       "      <td>S</td>\n",
       "    </tr>\n",
       "    <tr>\n",
       "      <th>4</th>\n",
       "      <td>5</td>\n",
       "      <td>0</td>\n",
       "      <td>3</td>\n",
       "      <td>Allen, Mr. William Henry</td>\n",
       "      <td>male</td>\n",
       "      <td>35.0</td>\n",
       "      <td>0</td>\n",
       "      <td>0</td>\n",
       "      <td>8.0500</td>\n",
       "      <td>n</td>\n",
       "      <td>S</td>\n",
       "    </tr>\n",
       "    <tr>\n",
       "      <th>...</th>\n",
       "      <td>...</td>\n",
       "      <td>...</td>\n",
       "      <td>...</td>\n",
       "      <td>...</td>\n",
       "      <td>...</td>\n",
       "      <td>...</td>\n",
       "      <td>...</td>\n",
       "      <td>...</td>\n",
       "      <td>...</td>\n",
       "      <td>...</td>\n",
       "      <td>...</td>\n",
       "    </tr>\n",
       "    <tr>\n",
       "      <th>886</th>\n",
       "      <td>887</td>\n",
       "      <td>0</td>\n",
       "      <td>2</td>\n",
       "      <td>Montvila, Rev. Juozas</td>\n",
       "      <td>male</td>\n",
       "      <td>27.0</td>\n",
       "      <td>0</td>\n",
       "      <td>0</td>\n",
       "      <td>13.0000</td>\n",
       "      <td>n</td>\n",
       "      <td>S</td>\n",
       "    </tr>\n",
       "    <tr>\n",
       "      <th>887</th>\n",
       "      <td>888</td>\n",
       "      <td>1</td>\n",
       "      <td>1</td>\n",
       "      <td>Graham, Miss. Margaret Edith</td>\n",
       "      <td>female</td>\n",
       "      <td>19.0</td>\n",
       "      <td>0</td>\n",
       "      <td>0</td>\n",
       "      <td>30.0000</td>\n",
       "      <td>B</td>\n",
       "      <td>S</td>\n",
       "    </tr>\n",
       "    <tr>\n",
       "      <th>888</th>\n",
       "      <td>889</td>\n",
       "      <td>0</td>\n",
       "      <td>3</td>\n",
       "      <td>Johnston, Miss. Catherine Helen \"Carrie\"</td>\n",
       "      <td>female</td>\n",
       "      <td>30.0</td>\n",
       "      <td>1</td>\n",
       "      <td>2</td>\n",
       "      <td>23.4500</td>\n",
       "      <td>n</td>\n",
       "      <td>S</td>\n",
       "    </tr>\n",
       "    <tr>\n",
       "      <th>889</th>\n",
       "      <td>890</td>\n",
       "      <td>1</td>\n",
       "      <td>1</td>\n",
       "      <td>Behr, Mr. Karl Howell</td>\n",
       "      <td>male</td>\n",
       "      <td>26.0</td>\n",
       "      <td>0</td>\n",
       "      <td>0</td>\n",
       "      <td>30.0000</td>\n",
       "      <td>C</td>\n",
       "      <td>C</td>\n",
       "    </tr>\n",
       "    <tr>\n",
       "      <th>890</th>\n",
       "      <td>891</td>\n",
       "      <td>0</td>\n",
       "      <td>3</td>\n",
       "      <td>Dooley, Mr. Patrick</td>\n",
       "      <td>male</td>\n",
       "      <td>32.0</td>\n",
       "      <td>0</td>\n",
       "      <td>0</td>\n",
       "      <td>7.7500</td>\n",
       "      <td>n</td>\n",
       "      <td>Q</td>\n",
       "    </tr>\n",
       "  </tbody>\n",
       "</table>\n",
       "<p>891 rows × 11 columns</p>\n",
       "</div>"
      ],
      "text/plain": [
       "     PassengerId  Survived  Pclass  \\\n",
       "0              1         0       3   \n",
       "1              2         1       1   \n",
       "2              3         1       3   \n",
       "3              4         1       1   \n",
       "4              5         0       3   \n",
       "..           ...       ...     ...   \n",
       "886          887         0       2   \n",
       "887          888         1       1   \n",
       "888          889         0       3   \n",
       "889          890         1       1   \n",
       "890          891         0       3   \n",
       "\n",
       "                                                  Name     Sex   Age  SibSp  \\\n",
       "0                              Braund, Mr. Owen Harris    male  22.0      1   \n",
       "1    Cumings, Mrs. John Bradley (Florence Briggs Th...  female  38.0      1   \n",
       "2                               Heikkinen, Miss. Laina  female  26.0      0   \n",
       "3         Futrelle, Mrs. Jacques Heath (Lily May Peel)  female  35.0      1   \n",
       "4                             Allen, Mr. William Henry    male  35.0      0   \n",
       "..                                                 ...     ...   ...    ...   \n",
       "886                              Montvila, Rev. Juozas    male  27.0      0   \n",
       "887                       Graham, Miss. Margaret Edith  female  19.0      0   \n",
       "888           Johnston, Miss. Catherine Helen \"Carrie\"  female  30.0      1   \n",
       "889                              Behr, Mr. Karl Howell    male  26.0      0   \n",
       "890                                Dooley, Mr. Patrick    male  32.0      0   \n",
       "\n",
       "     Parch     Fare Cabin Embarked  \n",
       "0        0   7.2500     n        S  \n",
       "1        0  71.2833     C        C  \n",
       "2        0   7.9250     n        S  \n",
       "3        0  53.1000     C        S  \n",
       "4        0   8.0500     n        S  \n",
       "..     ...      ...   ...      ...  \n",
       "886      0  13.0000     n        S  \n",
       "887      0  30.0000     B        S  \n",
       "888      2  23.4500     n        S  \n",
       "889      0  30.0000     C        C  \n",
       "890      0   7.7500     n        Q  \n",
       "\n",
       "[891 rows x 11 columns]"
      ]
     },
     "execution_count": 27,
     "metadata": {},
     "output_type": "execute_result"
    }
   ],
   "source": [
    "df"
   ]
  },
  {
   "cell_type": "code",
   "execution_count": 28,
   "id": "0ea4f572",
   "metadata": {
    "execution": {
     "iopub.execute_input": "2024-01-26T20:35:35.023729Z",
     "iopub.status.busy": "2024-01-26T20:35:35.023317Z",
     "iopub.status.idle": "2024-01-26T20:35:35.032518Z",
     "shell.execute_reply": "2024-01-26T20:35:35.031456Z"
    },
    "papermill": {
     "duration": 0.029011,
     "end_time": "2024-01-26T20:35:35.034677",
     "exception": false,
     "start_time": "2024-01-26T20:35:35.005666",
     "status": "completed"
    },
    "tags": []
   },
   "outputs": [
    {
     "data": {
      "text/plain": [
       "count     889\n",
       "unique      3\n",
       "top         S\n",
       "freq      644\n",
       "Name: Embarked, dtype: object"
      ]
     },
     "execution_count": 28,
     "metadata": {},
     "output_type": "execute_result"
    }
   ],
   "source": [
    "df[\"Embarked\"].describe()   #looking at the \"Embarked column\""
   ]
  },
  {
   "cell_type": "code",
   "execution_count": 29,
   "id": "ffc17b8b",
   "metadata": {
    "execution": {
     "iopub.execute_input": "2024-01-26T20:35:35.068848Z",
     "iopub.status.busy": "2024-01-26T20:35:35.068418Z",
     "iopub.status.idle": "2024-01-26T20:35:35.105946Z",
     "shell.execute_reply": "2024-01-26T20:35:35.104792Z"
    },
    "papermill": {
     "duration": 0.057834,
     "end_time": "2024-01-26T20:35:35.108574",
     "exception": false,
     "start_time": "2024-01-26T20:35:35.050740",
     "status": "completed"
    },
    "tags": []
   },
   "outputs": [
    {
     "data": {
      "text/html": [
       "<div>\n",
       "<style scoped>\n",
       "    .dataframe tbody tr th:only-of-type {\n",
       "        vertical-align: middle;\n",
       "    }\n",
       "\n",
       "    .dataframe tbody tr th {\n",
       "        vertical-align: top;\n",
       "    }\n",
       "\n",
       "    .dataframe thead th {\n",
       "        text-align: right;\n",
       "    }\n",
       "</style>\n",
       "<table border=\"1\" class=\"dataframe\">\n",
       "  <thead>\n",
       "    <tr style=\"text-align: right;\">\n",
       "      <th></th>\n",
       "      <th>Dead</th>\n",
       "      <th>Survived</th>\n",
       "      <th>Total</th>\n",
       "    </tr>\n",
       "    <tr>\n",
       "      <th>Embarked</th>\n",
       "      <th></th>\n",
       "      <th></th>\n",
       "      <th></th>\n",
       "    </tr>\n",
       "  </thead>\n",
       "  <tbody>\n",
       "    <tr>\n",
       "      <th>C</th>\n",
       "      <td>75</td>\n",
       "      <td>93</td>\n",
       "      <td>168</td>\n",
       "    </tr>\n",
       "    <tr>\n",
       "      <th>Q</th>\n",
       "      <td>47</td>\n",
       "      <td>30</td>\n",
       "      <td>77</td>\n",
       "    </tr>\n",
       "    <tr>\n",
       "      <th>S</th>\n",
       "      <td>427</td>\n",
       "      <td>217</td>\n",
       "      <td>644</td>\n",
       "    </tr>\n",
       "    <tr>\n",
       "      <th>All</th>\n",
       "      <td>549</td>\n",
       "      <td>340</td>\n",
       "      <td>889</td>\n",
       "    </tr>\n",
       "  </tbody>\n",
       "</table>\n",
       "</div>"
      ],
      "text/plain": [
       "          Dead  Survived  Total\n",
       "Embarked                       \n",
       "C           75        93    168\n",
       "Q           47        30     77\n",
       "S          427       217    644\n",
       "All        549       340    889"
      ]
     },
     "execution_count": 29,
     "metadata": {},
     "output_type": "execute_result"
    }
   ],
   "source": [
    "cabin_survived = pd.crosstab(index = df[\"Embarked\"], columns  = df[\"Survived\"], margins = True)\n",
    "cabin_survived.columns = (\"Dead\", \"Survived\", \"Total\")\n",
    "cabin_survived"
   ]
  },
  {
   "cell_type": "markdown",
   "id": "703e8f56",
   "metadata": {
    "papermill": {
     "duration": 0.016233,
     "end_time": "2024-01-26T20:35:35.141057",
     "exception": false,
     "start_time": "2024-01-26T20:35:35.124824",
     "status": "completed"
    },
    "tags": []
   },
   "source": [
    "Passenger from embarkment Southamton has the highest number of passengers but lowest survival rate, which can sugguest that it could be the most affordable ticket's embarkment"
   ]
  },
  {
   "cell_type": "code",
   "execution_count": 30,
   "id": "9636484d",
   "metadata": {
    "execution": {
     "iopub.execute_input": "2024-01-26T20:35:35.183854Z",
     "iopub.status.busy": "2024-01-26T20:35:35.183362Z",
     "iopub.status.idle": "2024-01-26T20:35:35.193183Z",
     "shell.execute_reply": "2024-01-26T20:35:35.192367Z"
    },
    "papermill": {
     "duration": 0.040206,
     "end_time": "2024-01-26T20:35:35.198440",
     "exception": false,
     "start_time": "2024-01-26T20:35:35.158234",
     "status": "completed"
    },
    "tags": []
   },
   "outputs": [
    {
     "data": {
      "text/plain": [
       "Survived\n",
       "0    549\n",
       "1    342\n",
       "Name: count, dtype: int64"
      ]
     },
     "execution_count": 30,
     "metadata": {},
     "output_type": "execute_result"
    }
   ],
   "source": [
    "df[\"Survived\"].value_counts()"
   ]
  },
  {
   "cell_type": "markdown",
   "id": "03f19552",
   "metadata": {
    "papermill": {
     "duration": 0.018486,
     "end_time": "2024-01-26T20:35:35.244696",
     "exception": false,
     "start_time": "2024-01-26T20:35:35.226210",
     "status": "completed"
    },
    "tags": []
   },
   "source": [
    "def str_to_int(char_list):\n",
    "    result = []\n",
    "    for letter in char_list:\n",
    "        if letter == \"C\":\n",
    "            result.append(1)\n",
    "        elif letter == \"Q\":\n",
    "            result.append(2)\n",
    "        elif letter == \"S\":\n",
    "            result.append(3)\n",
    "        else:\n",
    "            result.append(None)  # Handle other cases if needed\n",
    "    return result# Decision Tree Modeling"
   ]
  },
  {
   "cell_type": "code",
   "execution_count": 31,
   "id": "35ad9708",
   "metadata": {
    "execution": {
     "iopub.execute_input": "2024-01-26T20:35:35.279565Z",
     "iopub.status.busy": "2024-01-26T20:35:35.279182Z",
     "iopub.status.idle": "2024-01-26T20:35:36.854982Z",
     "shell.execute_reply": "2024-01-26T20:35:36.853603Z"
    },
    "papermill": {
     "duration": 1.596483,
     "end_time": "2024-01-26T20:35:36.857762",
     "exception": false,
     "start_time": "2024-01-26T20:35:35.261279",
     "status": "completed"
    },
    "tags": []
   },
   "outputs": [],
   "source": [
    "from sklearn import tree\n",
    "from sklearn import preprocessing"
   ]
  },
  {
   "cell_type": "code",
   "execution_count": 32,
   "id": "febc25c2",
   "metadata": {
    "execution": {
     "iopub.execute_input": "2024-01-26T20:35:36.893198Z",
     "iopub.status.busy": "2024-01-26T20:35:36.892750Z",
     "iopub.status.idle": "2024-01-26T20:35:36.907900Z",
     "shell.execute_reply": "2024-01-26T20:35:36.906811Z"
    },
    "papermill": {
     "duration": 0.035648,
     "end_time": "2024-01-26T20:35:36.910354",
     "exception": false,
     "start_time": "2024-01-26T20:35:36.874706",
     "status": "completed"
    },
    "tags": []
   },
   "outputs": [
    {
     "data": {
      "text/html": [
       "<style>#sk-container-id-1 {color: black;background-color: white;}#sk-container-id-1 pre{padding: 0;}#sk-container-id-1 div.sk-toggleable {background-color: white;}#sk-container-id-1 label.sk-toggleable__label {cursor: pointer;display: block;width: 100%;margin-bottom: 0;padding: 0.3em;box-sizing: border-box;text-align: center;}#sk-container-id-1 label.sk-toggleable__label-arrow:before {content: \"▸\";float: left;margin-right: 0.25em;color: #696969;}#sk-container-id-1 label.sk-toggleable__label-arrow:hover:before {color: black;}#sk-container-id-1 div.sk-estimator:hover label.sk-toggleable__label-arrow:before {color: black;}#sk-container-id-1 div.sk-toggleable__content {max-height: 0;max-width: 0;overflow: hidden;text-align: left;background-color: #f0f8ff;}#sk-container-id-1 div.sk-toggleable__content pre {margin: 0.2em;color: black;border-radius: 0.25em;background-color: #f0f8ff;}#sk-container-id-1 input.sk-toggleable__control:checked~div.sk-toggleable__content {max-height: 200px;max-width: 100%;overflow: auto;}#sk-container-id-1 input.sk-toggleable__control:checked~label.sk-toggleable__label-arrow:before {content: \"▾\";}#sk-container-id-1 div.sk-estimator input.sk-toggleable__control:checked~label.sk-toggleable__label {background-color: #d4ebff;}#sk-container-id-1 div.sk-label input.sk-toggleable__control:checked~label.sk-toggleable__label {background-color: #d4ebff;}#sk-container-id-1 input.sk-hidden--visually {border: 0;clip: rect(1px 1px 1px 1px);clip: rect(1px, 1px, 1px, 1px);height: 1px;margin: -1px;overflow: hidden;padding: 0;position: absolute;width: 1px;}#sk-container-id-1 div.sk-estimator {font-family: monospace;background-color: #f0f8ff;border: 1px dotted black;border-radius: 0.25em;box-sizing: border-box;margin-bottom: 0.5em;}#sk-container-id-1 div.sk-estimator:hover {background-color: #d4ebff;}#sk-container-id-1 div.sk-parallel-item::after {content: \"\";width: 100%;border-bottom: 1px solid gray;flex-grow: 1;}#sk-container-id-1 div.sk-label:hover label.sk-toggleable__label {background-color: #d4ebff;}#sk-container-id-1 div.sk-serial::before {content: \"\";position: absolute;border-left: 1px solid gray;box-sizing: border-box;top: 0;bottom: 0;left: 50%;z-index: 0;}#sk-container-id-1 div.sk-serial {display: flex;flex-direction: column;align-items: center;background-color: white;padding-right: 0.2em;padding-left: 0.2em;position: relative;}#sk-container-id-1 div.sk-item {position: relative;z-index: 1;}#sk-container-id-1 div.sk-parallel {display: flex;align-items: stretch;justify-content: center;background-color: white;position: relative;}#sk-container-id-1 div.sk-item::before, #sk-container-id-1 div.sk-parallel-item::before {content: \"\";position: absolute;border-left: 1px solid gray;box-sizing: border-box;top: 0;bottom: 0;left: 50%;z-index: -1;}#sk-container-id-1 div.sk-parallel-item {display: flex;flex-direction: column;z-index: 1;position: relative;background-color: white;}#sk-container-id-1 div.sk-parallel-item:first-child::after {align-self: flex-end;width: 50%;}#sk-container-id-1 div.sk-parallel-item:last-child::after {align-self: flex-start;width: 50%;}#sk-container-id-1 div.sk-parallel-item:only-child::after {width: 0;}#sk-container-id-1 div.sk-dashed-wrapped {border: 1px dashed gray;margin: 0 0.4em 0.5em 0.4em;box-sizing: border-box;padding-bottom: 0.4em;background-color: white;}#sk-container-id-1 div.sk-label label {font-family: monospace;font-weight: bold;display: inline-block;line-height: 1.2em;}#sk-container-id-1 div.sk-label-container {text-align: center;}#sk-container-id-1 div.sk-container {/* jupyter's `normalize.less` sets `[hidden] { display: none; }` but bootstrap.min.css set `[hidden] { display: none !important; }` so we also need the `!important` here to be able to override the default hidden behavior on the sphinx rendered scikit-learn.org. See: https://github.com/scikit-learn/scikit-learn/issues/21755 */display: inline-block !important;position: relative;}#sk-container-id-1 div.sk-text-repr-fallback {display: none;}</style><div id=\"sk-container-id-1\" class=\"sk-top-container\"><div class=\"sk-text-repr-fallback\"><pre>DecisionTreeClassifier()</pre><b>In a Jupyter environment, please rerun this cell to show the HTML representation or trust the notebook. <br />On GitHub, the HTML representation is unable to render, please try loading this page with nbviewer.org.</b></div><div class=\"sk-container\" hidden><div class=\"sk-item\"><div class=\"sk-estimator sk-toggleable\"><input class=\"sk-toggleable__control sk-hidden--visually\" id=\"sk-estimator-id-1\" type=\"checkbox\" checked><label for=\"sk-estimator-id-1\" class=\"sk-toggleable__label sk-toggleable__label-arrow\">DecisionTreeClassifier</label><div class=\"sk-toggleable__content\"><pre>DecisionTreeClassifier()</pre></div></div></div></div></div>"
      ],
      "text/plain": [
       "DecisionTreeClassifier()"
      ]
     },
     "execution_count": 32,
     "metadata": {},
     "output_type": "execute_result"
    }
   ],
   "source": [
    "# Initialize label encoder\n",
    "label_encoder = preprocessing.LabelEncoder()\n",
    "\n",
    "# Convert Sex variable to numeric\n",
    "encoded_sex = label_encoder.fit_transform(df[\"Sex\"])\n",
    "\n",
    "# Initialize model\n",
    "tree_model = tree.DecisionTreeClassifier()\n",
    "\n",
    "# Train the model\n",
    "tree_model.fit(X = pd.DataFrame(encoded_sex), \n",
    "               y = df[\"Survived\"])"
   ]
  },
  {
   "cell_type": "code",
   "execution_count": 33,
   "id": "0ad0f7c3",
   "metadata": {
    "execution": {
     "iopub.execute_input": "2024-01-26T20:35:36.945473Z",
     "iopub.status.busy": "2024-01-26T20:35:36.945016Z",
     "iopub.status.idle": "2024-01-26T20:35:37.252255Z",
     "shell.execute_reply": "2024-01-26T20:35:37.251437Z"
    },
    "papermill": {
     "duration": 0.3275,
     "end_time": "2024-01-26T20:35:37.254555",
     "exception": false,
     "start_time": "2024-01-26T20:35:36.927055",
     "status": "completed"
    },
    "tags": []
   },
   "outputs": [
    {
     "data": {
      "image/svg+xml": [
       "<?xml version=\"1.0\" encoding=\"UTF-8\" standalone=\"no\"?>\n",
       "<!DOCTYPE svg PUBLIC \"-//W3C//DTD SVG 1.1//EN\"\n",
       " \"http://www.w3.org/Graphics/SVG/1.1/DTD/svg11.dtd\">\n",
       "<!-- Generated by graphviz version 9.0.0 (20231125.0833)\n",
       " -->\n",
       "<!-- Title: Tree Pages: 1 -->\n",
       "<svg width=\"314pt\" height=\"181pt\"\n",
       " viewBox=\"0.00 0.00 313.50 180.75\" xmlns=\"http://www.w3.org/2000/svg\" xmlns:xlink=\"http://www.w3.org/1999/xlink\">\n",
       "<g id=\"graph0\" class=\"graph\" transform=\"scale(1 1) rotate(0) translate(4 176.75)\">\n",
       "<title>Tree</title>\n",
       "<polygon fill=\"white\" stroke=\"none\" points=\"-4,4 -4,-176.75 309.5,-176.75 309.5,4 -4,4\"/>\n",
       "<!-- 0 -->\n",
       "<g id=\"node1\" class=\"node\">\n",
       "<title>0</title>\n",
       "<polygon fill=\"none\" stroke=\"black\" points=\"224.5,-172.75 76.5,-172.75 76.5,-95.75 224.5,-95.75 224.5,-172.75\"/>\n",
       "<text text-anchor=\"middle\" x=\"150.5\" y=\"-155.45\" font-family=\"Helvetica,sans-Serif\" font-size=\"14.00\">x[0] &lt;= 0.5</text>\n",
       "<text text-anchor=\"middle\" x=\"150.5\" y=\"-138.2\" font-family=\"Helvetica,sans-Serif\" font-size=\"14.00\">gini = 0.473</text>\n",
       "<text text-anchor=\"middle\" x=\"150.5\" y=\"-120.95\" font-family=\"Helvetica,sans-Serif\" font-size=\"14.00\">samples = 891</text>\n",
       "<text text-anchor=\"middle\" x=\"150.5\" y=\"-103.7\" font-family=\"Helvetica,sans-Serif\" font-size=\"14.00\">value = [549, 342]</text>\n",
       "</g>\n",
       "<!-- 1 -->\n",
       "<g id=\"node2\" class=\"node\">\n",
       "<title>1</title>\n",
       "<polygon fill=\"none\" stroke=\"black\" points=\"139,-59.75 0,-59.75 0,0 139,0 139,-59.75\"/>\n",
       "<text text-anchor=\"middle\" x=\"69.5\" y=\"-42.45\" font-family=\"Helvetica,sans-Serif\" font-size=\"14.00\">gini = 0.383</text>\n",
       "<text text-anchor=\"middle\" x=\"69.5\" y=\"-25.2\" font-family=\"Helvetica,sans-Serif\" font-size=\"14.00\">samples = 314</text>\n",
       "<text text-anchor=\"middle\" x=\"69.5\" y=\"-7.95\" font-family=\"Helvetica,sans-Serif\" font-size=\"14.00\">value = [81, 233]</text>\n",
       "</g>\n",
       "<!-- 0&#45;&gt;1 -->\n",
       "<g id=\"edge1\" class=\"edge\">\n",
       "<title>0&#45;&gt;1</title>\n",
       "<path fill=\"none\" stroke=\"black\" d=\"M120.57,-95.42C113.75,-86.8 106.49,-77.63 99.66,-68.99\"/>\n",
       "<polygon fill=\"black\" stroke=\"black\" points=\"102.62,-67.09 93.67,-61.42 97.13,-71.43 102.62,-67.09\"/>\n",
       "<text text-anchor=\"middle\" x=\"89.83\" y=\"-80.39\" font-family=\"Helvetica,sans-Serif\" font-size=\"14.00\">True</text>\n",
       "</g>\n",
       "<!-- 2 -->\n",
       "<g id=\"node3\" class=\"node\">\n",
       "<title>2</title>\n",
       "<polygon fill=\"none\" stroke=\"black\" points=\"305.5,-59.75 157.5,-59.75 157.5,0 305.5,0 305.5,-59.75\"/>\n",
       "<text text-anchor=\"middle\" x=\"231.5\" y=\"-42.45\" font-family=\"Helvetica,sans-Serif\" font-size=\"14.00\">gini = 0.306</text>\n",
       "<text text-anchor=\"middle\" x=\"231.5\" y=\"-25.2\" font-family=\"Helvetica,sans-Serif\" font-size=\"14.00\">samples = 577</text>\n",
       "<text text-anchor=\"middle\" x=\"231.5\" y=\"-7.95\" font-family=\"Helvetica,sans-Serif\" font-size=\"14.00\">value = [468, 109]</text>\n",
       "</g>\n",
       "<!-- 0&#45;&gt;2 -->\n",
       "<g id=\"edge2\" class=\"edge\">\n",
       "<title>0&#45;&gt;2</title>\n",
       "<path fill=\"none\" stroke=\"black\" d=\"M180.43,-95.42C187.25,-86.8 194.51,-77.63 201.34,-68.99\"/>\n",
       "<polygon fill=\"black\" stroke=\"black\" points=\"203.87,-71.43 207.33,-61.42 198.38,-67.09 203.87,-71.43\"/>\n",
       "<text text-anchor=\"middle\" x=\"211.17\" y=\"-80.39\" font-family=\"Helvetica,sans-Serif\" font-size=\"14.00\">False</text>\n",
       "</g>\n",
       "</g>\n",
       "</svg>\n"
      ],
      "text/plain": [
       "<graphviz.sources.Source at 0x7c9fb1833a60>"
      ]
     },
     "execution_count": 33,
     "metadata": {},
     "output_type": "execute_result"
    }
   ],
   "source": [
    "import graphviz\n",
    "\n",
    "dot_data = tree.export_graphviz(tree_model, out_file = None)\n",
    "graph = graphviz.Source(dot_data)\n",
    "graph"
   ]
  },
  {
   "cell_type": "code",
   "execution_count": 34,
   "id": "2d6d4d93",
   "metadata": {
    "execution": {
     "iopub.execute_input": "2024-01-26T20:35:37.295638Z",
     "iopub.status.busy": "2024-01-26T20:35:37.295243Z",
     "iopub.status.idle": "2024-01-26T20:35:37.316790Z",
     "shell.execute_reply": "2024-01-26T20:35:37.315545Z"
    },
    "papermill": {
     "duration": 0.042835,
     "end_time": "2024-01-26T20:35:37.319195",
     "exception": false,
     "start_time": "2024-01-26T20:35:37.276360",
     "status": "completed"
    },
    "tags": []
   },
   "outputs": [
    {
     "data": {
      "text/html": [
       "<div>\n",
       "<style scoped>\n",
       "    .dataframe tbody tr th:only-of-type {\n",
       "        vertical-align: middle;\n",
       "    }\n",
       "\n",
       "    .dataframe tbody tr th {\n",
       "        vertical-align: top;\n",
       "    }\n",
       "\n",
       "    .dataframe thead th {\n",
       "        text-align: right;\n",
       "    }\n",
       "</style>\n",
       "<table border=\"1\" class=\"dataframe\">\n",
       "  <thead>\n",
       "    <tr style=\"text-align: right;\">\n",
       "      <th>Sex</th>\n",
       "      <th>female</th>\n",
       "      <th>male</th>\n",
       "    </tr>\n",
       "    <tr>\n",
       "      <th>row_0</th>\n",
       "      <th></th>\n",
       "      <th></th>\n",
       "    </tr>\n",
       "  </thead>\n",
       "  <tbody>\n",
       "    <tr>\n",
       "      <th>0.257962</th>\n",
       "      <td>314</td>\n",
       "      <td>0</td>\n",
       "    </tr>\n",
       "    <tr>\n",
       "      <th>0.811092</th>\n",
       "      <td>0</td>\n",
       "      <td>577</td>\n",
       "    </tr>\n",
       "  </tbody>\n",
       "</table>\n",
       "</div>"
      ],
      "text/plain": [
       "Sex       female  male\n",
       "row_0                 \n",
       "0.257962     314     0\n",
       "0.811092       0   577"
      ]
     },
     "execution_count": 34,
     "metadata": {},
     "output_type": "execute_result"
    }
   ],
   "source": [
    "# Get survival probability\n",
    "preds = tree_model.predict_proba(X = pd.DataFrame(encoded_sex))\n",
    "\n",
    "pd.crosstab(preds[:,0], df[\"Sex\"])"
   ]
  },
  {
   "cell_type": "code",
   "execution_count": 35,
   "id": "550ebd49",
   "metadata": {
    "execution": {
     "iopub.execute_input": "2024-01-26T20:35:37.355435Z",
     "iopub.status.busy": "2024-01-26T20:35:37.354981Z",
     "iopub.status.idle": "2024-01-26T20:35:37.385406Z",
     "shell.execute_reply": "2024-01-26T20:35:37.384171Z"
    },
    "papermill": {
     "duration": 0.05186,
     "end_time": "2024-01-26T20:35:37.387978",
     "exception": false,
     "start_time": "2024-01-26T20:35:37.336118",
     "status": "completed"
    },
    "tags": []
   },
   "outputs": [
    {
     "data": {
      "text/html": [
       "<style>#sk-container-id-2 {color: black;background-color: white;}#sk-container-id-2 pre{padding: 0;}#sk-container-id-2 div.sk-toggleable {background-color: white;}#sk-container-id-2 label.sk-toggleable__label {cursor: pointer;display: block;width: 100%;margin-bottom: 0;padding: 0.3em;box-sizing: border-box;text-align: center;}#sk-container-id-2 label.sk-toggleable__label-arrow:before {content: \"▸\";float: left;margin-right: 0.25em;color: #696969;}#sk-container-id-2 label.sk-toggleable__label-arrow:hover:before {color: black;}#sk-container-id-2 div.sk-estimator:hover label.sk-toggleable__label-arrow:before {color: black;}#sk-container-id-2 div.sk-toggleable__content {max-height: 0;max-width: 0;overflow: hidden;text-align: left;background-color: #f0f8ff;}#sk-container-id-2 div.sk-toggleable__content pre {margin: 0.2em;color: black;border-radius: 0.25em;background-color: #f0f8ff;}#sk-container-id-2 input.sk-toggleable__control:checked~div.sk-toggleable__content {max-height: 200px;max-width: 100%;overflow: auto;}#sk-container-id-2 input.sk-toggleable__control:checked~label.sk-toggleable__label-arrow:before {content: \"▾\";}#sk-container-id-2 div.sk-estimator input.sk-toggleable__control:checked~label.sk-toggleable__label {background-color: #d4ebff;}#sk-container-id-2 div.sk-label input.sk-toggleable__control:checked~label.sk-toggleable__label {background-color: #d4ebff;}#sk-container-id-2 input.sk-hidden--visually {border: 0;clip: rect(1px 1px 1px 1px);clip: rect(1px, 1px, 1px, 1px);height: 1px;margin: -1px;overflow: hidden;padding: 0;position: absolute;width: 1px;}#sk-container-id-2 div.sk-estimator {font-family: monospace;background-color: #f0f8ff;border: 1px dotted black;border-radius: 0.25em;box-sizing: border-box;margin-bottom: 0.5em;}#sk-container-id-2 div.sk-estimator:hover {background-color: #d4ebff;}#sk-container-id-2 div.sk-parallel-item::after {content: \"\";width: 100%;border-bottom: 1px solid gray;flex-grow: 1;}#sk-container-id-2 div.sk-label:hover label.sk-toggleable__label {background-color: #d4ebff;}#sk-container-id-2 div.sk-serial::before {content: \"\";position: absolute;border-left: 1px solid gray;box-sizing: border-box;top: 0;bottom: 0;left: 50%;z-index: 0;}#sk-container-id-2 div.sk-serial {display: flex;flex-direction: column;align-items: center;background-color: white;padding-right: 0.2em;padding-left: 0.2em;position: relative;}#sk-container-id-2 div.sk-item {position: relative;z-index: 1;}#sk-container-id-2 div.sk-parallel {display: flex;align-items: stretch;justify-content: center;background-color: white;position: relative;}#sk-container-id-2 div.sk-item::before, #sk-container-id-2 div.sk-parallel-item::before {content: \"\";position: absolute;border-left: 1px solid gray;box-sizing: border-box;top: 0;bottom: 0;left: 50%;z-index: -1;}#sk-container-id-2 div.sk-parallel-item {display: flex;flex-direction: column;z-index: 1;position: relative;background-color: white;}#sk-container-id-2 div.sk-parallel-item:first-child::after {align-self: flex-end;width: 50%;}#sk-container-id-2 div.sk-parallel-item:last-child::after {align-self: flex-start;width: 50%;}#sk-container-id-2 div.sk-parallel-item:only-child::after {width: 0;}#sk-container-id-2 div.sk-dashed-wrapped {border: 1px dashed gray;margin: 0 0.4em 0.5em 0.4em;box-sizing: border-box;padding-bottom: 0.4em;background-color: white;}#sk-container-id-2 div.sk-label label {font-family: monospace;font-weight: bold;display: inline-block;line-height: 1.2em;}#sk-container-id-2 div.sk-label-container {text-align: center;}#sk-container-id-2 div.sk-container {/* jupyter's `normalize.less` sets `[hidden] { display: none; }` but bootstrap.min.css set `[hidden] { display: none !important; }` so we also need the `!important` here to be able to override the default hidden behavior on the sphinx rendered scikit-learn.org. See: https://github.com/scikit-learn/scikit-learn/issues/21755 */display: inline-block !important;position: relative;}#sk-container-id-2 div.sk-text-repr-fallback {display: none;}</style><div id=\"sk-container-id-2\" class=\"sk-top-container\"><div class=\"sk-text-repr-fallback\"><pre>DecisionTreeClassifier()</pre><b>In a Jupyter environment, please rerun this cell to show the HTML representation or trust the notebook. <br />On GitHub, the HTML representation is unable to render, please try loading this page with nbviewer.org.</b></div><div class=\"sk-container\" hidden><div class=\"sk-item\"><div class=\"sk-estimator sk-toggleable\"><input class=\"sk-toggleable__control sk-hidden--visually\" id=\"sk-estimator-id-2\" type=\"checkbox\" checked><label for=\"sk-estimator-id-2\" class=\"sk-toggleable__label sk-toggleable__label-arrow\">DecisionTreeClassifier</label><div class=\"sk-toggleable__content\"><pre>DecisionTreeClassifier()</pre></div></div></div></div></div>"
      ],
      "text/plain": [
       "DecisionTreeClassifier()"
      ]
     },
     "execution_count": 35,
     "metadata": {},
     "output_type": "execute_result"
    }
   ],
   "source": [
    "#Adding another variable, to the model and make a dataframe with the sex variable\n",
    "\n",
    "predictors = pd.DataFrame([encoded_sex, df[\"Pclass\"]]).T\n",
    "\n",
    "#Train the model\n",
    "tree_model.fit(X = predictors,\n",
    "              y = df[\"Survived\"])\n"
   ]
  },
  {
   "cell_type": "code",
   "execution_count": 36,
   "id": "8290034f",
   "metadata": {
    "execution": {
     "iopub.execute_input": "2024-01-26T20:35:37.423933Z",
     "iopub.status.busy": "2024-01-26T20:35:37.423516Z",
     "iopub.status.idle": "2024-01-26T20:35:37.453195Z",
     "shell.execute_reply": "2024-01-26T20:35:37.452347Z"
    },
    "papermill": {
     "duration": 0.050444,
     "end_time": "2024-01-26T20:35:37.455474",
     "exception": false,
     "start_time": "2024-01-26T20:35:37.405030",
     "status": "completed"
    },
    "tags": []
   },
   "outputs": [
    {
     "data": {
      "image/svg+xml": [
       "<?xml version=\"1.0\" encoding=\"UTF-8\" standalone=\"no\"?>\n",
       "<!DOCTYPE svg PUBLIC \"-//W3C//DTD SVG 1.1//EN\"\n",
       " \"http://www.w3.org/Graphics/SVG/1.1/DTD/svg11.dtd\">\n",
       "<!-- Generated by graphviz version 9.0.0 (20231125.0833)\n",
       " -->\n",
       "<!-- Title: Tree Pages: 1 -->\n",
       "<svg width=\"739pt\" height=\"407pt\"\n",
       " viewBox=\"0.00 0.00 739.00 406.75\" xmlns=\"http://www.w3.org/2000/svg\" xmlns:xlink=\"http://www.w3.org/1999/xlink\">\n",
       "<g id=\"graph0\" class=\"graph\" transform=\"scale(1 1) rotate(0) translate(4 402.75)\">\n",
       "<title>Tree</title>\n",
       "<polygon fill=\"white\" stroke=\"none\" points=\"-4,4 -4,-402.75 735,-402.75 735,4 -4,4\"/>\n",
       "<!-- 0 -->\n",
       "<g id=\"node1\" class=\"node\">\n",
       "<title>0</title>\n",
       "<polygon fill=\"none\" stroke=\"black\" points=\"428.5,-398.75 280.5,-398.75 280.5,-321.75 428.5,-321.75 428.5,-398.75\"/>\n",
       "<text text-anchor=\"middle\" x=\"354.5\" y=\"-381.45\" font-family=\"Helvetica,sans-Serif\" font-size=\"14.00\">x[0] &lt;= 0.5</text>\n",
       "<text text-anchor=\"middle\" x=\"354.5\" y=\"-364.2\" font-family=\"Helvetica,sans-Serif\" font-size=\"14.00\">gini = 0.473</text>\n",
       "<text text-anchor=\"middle\" x=\"354.5\" y=\"-346.95\" font-family=\"Helvetica,sans-Serif\" font-size=\"14.00\">samples = 891</text>\n",
       "<text text-anchor=\"middle\" x=\"354.5\" y=\"-329.7\" font-family=\"Helvetica,sans-Serif\" font-size=\"14.00\">value = [549, 342]</text>\n",
       "</g>\n",
       "<!-- 1 -->\n",
       "<g id=\"node2\" class=\"node\">\n",
       "<title>1</title>\n",
       "<polygon fill=\"none\" stroke=\"black\" points=\"343,-285.75 204,-285.75 204,-208.75 343,-208.75 343,-285.75\"/>\n",
       "<text text-anchor=\"middle\" x=\"273.5\" y=\"-268.45\" font-family=\"Helvetica,sans-Serif\" font-size=\"14.00\">x[1] &lt;= 2.5</text>\n",
       "<text text-anchor=\"middle\" x=\"273.5\" y=\"-251.2\" font-family=\"Helvetica,sans-Serif\" font-size=\"14.00\">gini = 0.383</text>\n",
       "<text text-anchor=\"middle\" x=\"273.5\" y=\"-233.95\" font-family=\"Helvetica,sans-Serif\" font-size=\"14.00\">samples = 314</text>\n",
       "<text text-anchor=\"middle\" x=\"273.5\" y=\"-216.7\" font-family=\"Helvetica,sans-Serif\" font-size=\"14.00\">value = [81, 233]</text>\n",
       "</g>\n",
       "<!-- 0&#45;&gt;1 -->\n",
       "<g id=\"edge1\" class=\"edge\">\n",
       "<title>0&#45;&gt;1</title>\n",
       "<path fill=\"none\" stroke=\"black\" d=\"M326.85,-321.36C320.73,-312.97 314.16,-303.97 307.81,-295.26\"/>\n",
       "<polygon fill=\"black\" stroke=\"black\" points=\"310.64,-293.21 301.92,-287.19 304.98,-297.33 310.64,-293.21\"/>\n",
       "<text text-anchor=\"middle\" x=\"297.17\" y=\"-305.99\" font-family=\"Helvetica,sans-Serif\" font-size=\"14.00\">True</text>\n",
       "</g>\n",
       "<!-- 6 -->\n",
       "<g id=\"node7\" class=\"node\">\n",
       "<title>6</title>\n",
       "<polygon fill=\"none\" stroke=\"black\" points=\"509.5,-285.75 361.5,-285.75 361.5,-208.75 509.5,-208.75 509.5,-285.75\"/>\n",
       "<text text-anchor=\"middle\" x=\"435.5\" y=\"-268.45\" font-family=\"Helvetica,sans-Serif\" font-size=\"14.00\">x[1] &lt;= 1.5</text>\n",
       "<text text-anchor=\"middle\" x=\"435.5\" y=\"-251.2\" font-family=\"Helvetica,sans-Serif\" font-size=\"14.00\">gini = 0.306</text>\n",
       "<text text-anchor=\"middle\" x=\"435.5\" y=\"-233.95\" font-family=\"Helvetica,sans-Serif\" font-size=\"14.00\">samples = 577</text>\n",
       "<text text-anchor=\"middle\" x=\"435.5\" y=\"-216.7\" font-family=\"Helvetica,sans-Serif\" font-size=\"14.00\">value = [468, 109]</text>\n",
       "</g>\n",
       "<!-- 0&#45;&gt;6 -->\n",
       "<g id=\"edge6\" class=\"edge\">\n",
       "<title>0&#45;&gt;6</title>\n",
       "<path fill=\"none\" stroke=\"black\" d=\"M382.15,-321.36C388.27,-312.97 394.84,-303.97 401.19,-295.26\"/>\n",
       "<polygon fill=\"black\" stroke=\"black\" points=\"404.02,-297.33 407.08,-287.19 398.36,-293.21 404.02,-297.33\"/>\n",
       "<text text-anchor=\"middle\" x=\"411.83\" y=\"-305.99\" font-family=\"Helvetica,sans-Serif\" font-size=\"14.00\">False</text>\n",
       "</g>\n",
       "<!-- 2 -->\n",
       "<g id=\"node3\" class=\"node\">\n",
       "<title>2</title>\n",
       "<polygon fill=\"none\" stroke=\"black\" points=\"194.5,-172.75 64.5,-172.75 64.5,-95.75 194.5,-95.75 194.5,-172.75\"/>\n",
       "<text text-anchor=\"middle\" x=\"129.5\" y=\"-155.45\" font-family=\"Helvetica,sans-Serif\" font-size=\"14.00\">x[1] &lt;= 1.5</text>\n",
       "<text text-anchor=\"middle\" x=\"129.5\" y=\"-138.2\" font-family=\"Helvetica,sans-Serif\" font-size=\"14.00\">gini = 0.1</text>\n",
       "<text text-anchor=\"middle\" x=\"129.5\" y=\"-120.95\" font-family=\"Helvetica,sans-Serif\" font-size=\"14.00\">samples = 170</text>\n",
       "<text text-anchor=\"middle\" x=\"129.5\" y=\"-103.7\" font-family=\"Helvetica,sans-Serif\" font-size=\"14.00\">value = [9, 161]</text>\n",
       "</g>\n",
       "<!-- 1&#45;&gt;2 -->\n",
       "<g id=\"edge2\" class=\"edge\">\n",
       "<title>1&#45;&gt;2</title>\n",
       "<path fill=\"none\" stroke=\"black\" d=\"M224.35,-208.36C212.41,-199.16 199.55,-189.24 187.26,-179.77\"/>\n",
       "<polygon fill=\"black\" stroke=\"black\" points=\"189.69,-177.23 179.63,-173.89 185.41,-182.77 189.69,-177.23\"/>\n",
       "</g>\n",
       "<!-- 5 -->\n",
       "<g id=\"node6\" class=\"node\">\n",
       "<title>5</title>\n",
       "<polygon fill=\"none\" stroke=\"black\" points=\"342.5,-164.12 212.5,-164.12 212.5,-104.38 342.5,-104.38 342.5,-164.12\"/>\n",
       "<text text-anchor=\"middle\" x=\"277.5\" y=\"-146.82\" font-family=\"Helvetica,sans-Serif\" font-size=\"14.00\">gini = 0.5</text>\n",
       "<text text-anchor=\"middle\" x=\"277.5\" y=\"-129.57\" font-family=\"Helvetica,sans-Serif\" font-size=\"14.00\">samples = 144</text>\n",
       "<text text-anchor=\"middle\" x=\"277.5\" y=\"-112.33\" font-family=\"Helvetica,sans-Serif\" font-size=\"14.00\">value = [72, 72]</text>\n",
       "</g>\n",
       "<!-- 1&#45;&gt;5 -->\n",
       "<g id=\"edge5\" class=\"edge\">\n",
       "<title>1&#45;&gt;5</title>\n",
       "<path fill=\"none\" stroke=\"black\" d=\"M274.87,-208.36C275.24,-197.84 275.66,-186.39 276.04,-175.73\"/>\n",
       "<polygon fill=\"black\" stroke=\"black\" points=\"279.53,-176.19 276.39,-166.07 272.53,-175.94 279.53,-176.19\"/>\n",
       "</g>\n",
       "<!-- 3 -->\n",
       "<g id=\"node4\" class=\"node\">\n",
       "<title>3</title>\n",
       "<polygon fill=\"none\" stroke=\"black\" points=\"121,-59.75 0,-59.75 0,0 121,0 121,-59.75\"/>\n",
       "<text text-anchor=\"middle\" x=\"60.5\" y=\"-42.45\" font-family=\"Helvetica,sans-Serif\" font-size=\"14.00\">gini = 0.062</text>\n",
       "<text text-anchor=\"middle\" x=\"60.5\" y=\"-25.2\" font-family=\"Helvetica,sans-Serif\" font-size=\"14.00\">samples = 94</text>\n",
       "<text text-anchor=\"middle\" x=\"60.5\" y=\"-7.95\" font-family=\"Helvetica,sans-Serif\" font-size=\"14.00\">value = [3, 91]</text>\n",
       "</g>\n",
       "<!-- 2&#45;&gt;3 -->\n",
       "<g id=\"edge3\" class=\"edge\">\n",
       "<title>2&#45;&gt;3</title>\n",
       "<path fill=\"none\" stroke=\"black\" d=\"M104,-95.42C98.31,-86.98 92.27,-78.01 86.56,-69.54\"/>\n",
       "<polygon fill=\"black\" stroke=\"black\" points=\"89.62,-67.82 81.13,-61.49 83.82,-71.73 89.62,-67.82\"/>\n",
       "</g>\n",
       "<!-- 4 -->\n",
       "<g id=\"node5\" class=\"node\">\n",
       "<title>4</title>\n",
       "<polygon fill=\"none\" stroke=\"black\" points=\"260,-59.75 139,-59.75 139,0 260,0 260,-59.75\"/>\n",
       "<text text-anchor=\"middle\" x=\"199.5\" y=\"-42.45\" font-family=\"Helvetica,sans-Serif\" font-size=\"14.00\">gini = 0.145</text>\n",
       "<text text-anchor=\"middle\" x=\"199.5\" y=\"-25.2\" font-family=\"Helvetica,sans-Serif\" font-size=\"14.00\">samples = 76</text>\n",
       "<text text-anchor=\"middle\" x=\"199.5\" y=\"-7.95\" font-family=\"Helvetica,sans-Serif\" font-size=\"14.00\">value = [6, 70]</text>\n",
       "</g>\n",
       "<!-- 2&#45;&gt;4 -->\n",
       "<g id=\"edge4\" class=\"edge\">\n",
       "<title>2&#45;&gt;4</title>\n",
       "<path fill=\"none\" stroke=\"black\" d=\"M155.37,-95.42C161.14,-86.98 167.27,-78.01 173.06,-69.54\"/>\n",
       "<polygon fill=\"black\" stroke=\"black\" points=\"175.82,-71.71 178.57,-61.48 170.04,-67.76 175.82,-71.71\"/>\n",
       "</g>\n",
       "<!-- 7 -->\n",
       "<g id=\"node8\" class=\"node\">\n",
       "<title>7</title>\n",
       "<polygon fill=\"none\" stroke=\"black\" points=\"497.5,-164.12 367.5,-164.12 367.5,-104.38 497.5,-104.38 497.5,-164.12\"/>\n",
       "<text text-anchor=\"middle\" x=\"432.5\" y=\"-146.82\" font-family=\"Helvetica,sans-Serif\" font-size=\"14.00\">gini = 0.466</text>\n",
       "<text text-anchor=\"middle\" x=\"432.5\" y=\"-129.57\" font-family=\"Helvetica,sans-Serif\" font-size=\"14.00\">samples = 122</text>\n",
       "<text text-anchor=\"middle\" x=\"432.5\" y=\"-112.33\" font-family=\"Helvetica,sans-Serif\" font-size=\"14.00\">value = [77, 45]</text>\n",
       "</g>\n",
       "<!-- 6&#45;&gt;7 -->\n",
       "<g id=\"edge7\" class=\"edge\">\n",
       "<title>6&#45;&gt;7</title>\n",
       "<path fill=\"none\" stroke=\"black\" d=\"M434.48,-208.36C434.19,-197.96 433.89,-186.63 433.6,-176.07\"/>\n",
       "<polygon fill=\"black\" stroke=\"black\" points=\"437.1,-175.98 433.33,-166.07 430.1,-176.17 437.1,-175.98\"/>\n",
       "</g>\n",
       "<!-- 8 -->\n",
       "<g id=\"node9\" class=\"node\">\n",
       "<title>8</title>\n",
       "<polygon fill=\"none\" stroke=\"black\" points=\"655,-172.75 516,-172.75 516,-95.75 655,-95.75 655,-172.75\"/>\n",
       "<text text-anchor=\"middle\" x=\"585.5\" y=\"-155.45\" font-family=\"Helvetica,sans-Serif\" font-size=\"14.00\">x[1] &lt;= 2.5</text>\n",
       "<text text-anchor=\"middle\" x=\"585.5\" y=\"-138.2\" font-family=\"Helvetica,sans-Serif\" font-size=\"14.00\">gini = 0.242</text>\n",
       "<text text-anchor=\"middle\" x=\"585.5\" y=\"-120.95\" font-family=\"Helvetica,sans-Serif\" font-size=\"14.00\">samples = 455</text>\n",
       "<text text-anchor=\"middle\" x=\"585.5\" y=\"-103.7\" font-family=\"Helvetica,sans-Serif\" font-size=\"14.00\">value = [391, 64]</text>\n",
       "</g>\n",
       "<!-- 6&#45;&gt;8 -->\n",
       "<g id=\"edge8\" class=\"edge\">\n",
       "<title>6&#45;&gt;8</title>\n",
       "<path fill=\"none\" stroke=\"black\" d=\"M486.7,-208.36C499.06,-199.21 512.39,-189.35 525.12,-179.93\"/>\n",
       "<polygon fill=\"black\" stroke=\"black\" points=\"527.1,-182.82 533.06,-174.06 522.94,-177.19 527.1,-182.82\"/>\n",
       "</g>\n",
       "<!-- 9 -->\n",
       "<g id=\"node10\" class=\"node\">\n",
       "<title>9</title>\n",
       "<polygon fill=\"none\" stroke=\"black\" points=\"573.5,-59.75 443.5,-59.75 443.5,0 573.5,0 573.5,-59.75\"/>\n",
       "<text text-anchor=\"middle\" x=\"508.5\" y=\"-42.45\" font-family=\"Helvetica,sans-Serif\" font-size=\"14.00\">gini = 0.265</text>\n",
       "<text text-anchor=\"middle\" x=\"508.5\" y=\"-25.2\" font-family=\"Helvetica,sans-Serif\" font-size=\"14.00\">samples = 108</text>\n",
       "<text text-anchor=\"middle\" x=\"508.5\" y=\"-7.95\" font-family=\"Helvetica,sans-Serif\" font-size=\"14.00\">value = [91, 17]</text>\n",
       "</g>\n",
       "<!-- 8&#45;&gt;9 -->\n",
       "<g id=\"edge9\" class=\"edge\">\n",
       "<title>8&#45;&gt;9</title>\n",
       "<path fill=\"none\" stroke=\"black\" d=\"M557.05,-95.42C550.63,-86.89 543.81,-77.82 537.37,-69.27\"/>\n",
       "<polygon fill=\"black\" stroke=\"black\" points=\"540.3,-67.33 531.49,-61.44 534.7,-71.54 540.3,-67.33\"/>\n",
       "</g>\n",
       "<!-- 10 -->\n",
       "<g id=\"node11\" class=\"node\">\n",
       "<title>10</title>\n",
       "<polygon fill=\"none\" stroke=\"black\" points=\"731,-59.75 592,-59.75 592,0 731,0 731,-59.75\"/>\n",
       "<text text-anchor=\"middle\" x=\"661.5\" y=\"-42.45\" font-family=\"Helvetica,sans-Serif\" font-size=\"14.00\">gini = 0.234</text>\n",
       "<text text-anchor=\"middle\" x=\"661.5\" y=\"-25.2\" font-family=\"Helvetica,sans-Serif\" font-size=\"14.00\">samples = 347</text>\n",
       "<text text-anchor=\"middle\" x=\"661.5\" y=\"-7.95\" font-family=\"Helvetica,sans-Serif\" font-size=\"14.00\">value = [300, 47]</text>\n",
       "</g>\n",
       "<!-- 8&#45;&gt;10 -->\n",
       "<g id=\"edge10\" class=\"edge\">\n",
       "<title>8&#45;&gt;10</title>\n",
       "<path fill=\"none\" stroke=\"black\" d=\"M613.58,-95.42C619.92,-86.89 626.65,-77.82 633,-69.27\"/>\n",
       "<polygon fill=\"black\" stroke=\"black\" points=\"635.65,-71.56 638.8,-61.45 630.03,-67.39 635.65,-71.56\"/>\n",
       "</g>\n",
       "</g>\n",
       "</svg>\n"
      ],
      "text/plain": [
       "<graphviz.sources.Source at 0x7c9fc0fc1ae0>"
      ]
     },
     "execution_count": 36,
     "metadata": {},
     "output_type": "execute_result"
    }
   ],
   "source": [
    "# Save tree as dot file\n",
    "dot_data = tree.export_graphviz(tree_model, out_file=None) \n",
    "graph = graphviz.Source(dot_data)  \n",
    "graph "
   ]
  },
  {
   "cell_type": "code",
   "execution_count": 37,
   "id": "8695db0b",
   "metadata": {
    "execution": {
     "iopub.execute_input": "2024-01-26T20:35:37.492097Z",
     "iopub.status.busy": "2024-01-26T20:35:37.491677Z",
     "iopub.status.idle": "2024-01-26T20:35:37.518661Z",
     "shell.execute_reply": "2024-01-26T20:35:37.517540Z"
    },
    "papermill": {
     "duration": 0.048723,
     "end_time": "2024-01-26T20:35:37.521702",
     "exception": false,
     "start_time": "2024-01-26T20:35:37.472979",
     "status": "completed"
    },
    "tags": []
   },
   "outputs": [
    {
     "data": {
      "text/html": [
       "<div>\n",
       "<style scoped>\n",
       "    .dataframe tbody tr th:only-of-type {\n",
       "        vertical-align: middle;\n",
       "    }\n",
       "\n",
       "    .dataframe tbody tr th {\n",
       "        vertical-align: top;\n",
       "    }\n",
       "\n",
       "    .dataframe thead tr th {\n",
       "        text-align: left;\n",
       "    }\n",
       "\n",
       "    .dataframe thead tr:last-of-type th {\n",
       "        text-align: right;\n",
       "    }\n",
       "</style>\n",
       "<table border=\"1\" class=\"dataframe\">\n",
       "  <thead>\n",
       "    <tr>\n",
       "      <th>Pclass</th>\n",
       "      <th colspan=\"2\" halign=\"left\">1</th>\n",
       "      <th colspan=\"2\" halign=\"left\">2</th>\n",
       "      <th colspan=\"2\" halign=\"left\">3</th>\n",
       "    </tr>\n",
       "    <tr>\n",
       "      <th>Sex</th>\n",
       "      <th>female</th>\n",
       "      <th>male</th>\n",
       "      <th>female</th>\n",
       "      <th>male</th>\n",
       "      <th>female</th>\n",
       "      <th>male</th>\n",
       "    </tr>\n",
       "    <tr>\n",
       "      <th>row_0</th>\n",
       "      <th></th>\n",
       "      <th></th>\n",
       "      <th></th>\n",
       "      <th></th>\n",
       "      <th></th>\n",
       "      <th></th>\n",
       "    </tr>\n",
       "  </thead>\n",
       "  <tbody>\n",
       "    <tr>\n",
       "      <th>0.031915</th>\n",
       "      <td>94</td>\n",
       "      <td>0</td>\n",
       "      <td>0</td>\n",
       "      <td>0</td>\n",
       "      <td>0</td>\n",
       "      <td>0</td>\n",
       "    </tr>\n",
       "    <tr>\n",
       "      <th>0.078947</th>\n",
       "      <td>0</td>\n",
       "      <td>0</td>\n",
       "      <td>76</td>\n",
       "      <td>0</td>\n",
       "      <td>0</td>\n",
       "      <td>0</td>\n",
       "    </tr>\n",
       "    <tr>\n",
       "      <th>0.500000</th>\n",
       "      <td>0</td>\n",
       "      <td>0</td>\n",
       "      <td>0</td>\n",
       "      <td>0</td>\n",
       "      <td>144</td>\n",
       "      <td>0</td>\n",
       "    </tr>\n",
       "    <tr>\n",
       "      <th>0.631148</th>\n",
       "      <td>0</td>\n",
       "      <td>122</td>\n",
       "      <td>0</td>\n",
       "      <td>0</td>\n",
       "      <td>0</td>\n",
       "      <td>0</td>\n",
       "    </tr>\n",
       "    <tr>\n",
       "      <th>0.842593</th>\n",
       "      <td>0</td>\n",
       "      <td>0</td>\n",
       "      <td>0</td>\n",
       "      <td>108</td>\n",
       "      <td>0</td>\n",
       "      <td>0</td>\n",
       "    </tr>\n",
       "    <tr>\n",
       "      <th>0.864553</th>\n",
       "      <td>0</td>\n",
       "      <td>0</td>\n",
       "      <td>0</td>\n",
       "      <td>0</td>\n",
       "      <td>0</td>\n",
       "      <td>347</td>\n",
       "    </tr>\n",
       "  </tbody>\n",
       "</table>\n",
       "</div>"
      ],
      "text/plain": [
       "Pclass        1           2           3     \n",
       "Sex      female male female male female male\n",
       "row_0                                       \n",
       "0.031915     94    0      0    0      0    0\n",
       "0.078947      0    0     76    0      0    0\n",
       "0.500000      0    0      0    0    144    0\n",
       "0.631148      0  122      0    0      0    0\n",
       "0.842593      0    0      0  108      0    0\n",
       "0.864553      0    0      0    0      0  347"
      ]
     },
     "execution_count": 37,
     "metadata": {},
     "output_type": "execute_result"
    }
   ],
   "source": [
    "#Get survival probability \n",
    "preds = tree_model.predict_proba(X = predictors)\n",
    "\n",
    "#create a table of predictions by sex and class\n",
    "pd.crosstab(preds[:,0], columns = [df[\"Pclass\"], df[\"Sex\"]])"
   ]
  },
  {
   "cell_type": "code",
   "execution_count": 38,
   "id": "83ef7cb0",
   "metadata": {
    "execution": {
     "iopub.execute_input": "2024-01-26T20:35:37.577429Z",
     "iopub.status.busy": "2024-01-26T20:35:37.576968Z",
     "iopub.status.idle": "2024-01-26T20:35:37.588168Z",
     "shell.execute_reply": "2024-01-26T20:35:37.587036Z"
    },
    "papermill": {
     "duration": 0.041108,
     "end_time": "2024-01-26T20:35:37.590537",
     "exception": false,
     "start_time": "2024-01-26T20:35:37.549429",
     "status": "completed"
    },
    "tags": []
   },
   "outputs": [
    {
     "data": {
      "text/plain": [
       "0.7867564534231201"
      ]
     },
     "execution_count": 38,
     "metadata": {},
     "output_type": "execute_result"
    }
   ],
   "source": [
    "tree_model.score(X = predictors,\n",
    "                 y=df[\"Survived\"])"
   ]
  },
  {
   "cell_type": "markdown",
   "id": "9525cc02",
   "metadata": {
    "papermill": {
     "duration": 0.018067,
     "end_time": "2024-01-26T20:35:37.627293",
     "exception": false,
     "start_time": "2024-01-26T20:35:37.609226",
     "status": "completed"
    },
    "tags": []
   },
   "source": [
    "This model predicts a higher survival rate for women higher than men. For instance, women in first class only has 3% of death rate while men in first class has 6% of death rate. On the second class, women have 7% of dead rate compared to 84% that of men. And in third class, women has 50% of death rate compared to 86% of men. This model is 78% accurate on the training data"
   ]
  },
  {
   "cell_type": "markdown",
   "id": "0f1d8e38",
   "metadata": {
    "papermill": {
     "duration": 0.017404,
     "end_time": "2024-01-26T20:35:37.662831",
     "exception": false,
     "start_time": "2024-01-26T20:35:37.645427",
     "status": "completed"
    },
    "tags": []
   },
   "source": []
  },
  {
   "cell_type": "markdown",
   "id": "a2560385",
   "metadata": {
    "papermill": {
     "duration": 0.017241,
     "end_time": "2024-01-26T20:35:37.697587",
     "exception": false,
     "start_time": "2024-01-26T20:35:37.680346",
     "status": "completed"
    },
    "tags": []
   },
   "source": [
    "Let's throw in another variable Embarkment and see how the model performs and how accurate it is"
   ]
  },
  {
   "cell_type": "code",
   "execution_count": 39,
   "id": "17ec715d",
   "metadata": {
    "execution": {
     "iopub.execute_input": "2024-01-26T20:35:37.735411Z",
     "iopub.status.busy": "2024-01-26T20:35:37.734701Z",
     "iopub.status.idle": "2024-01-26T20:35:37.744034Z",
     "shell.execute_reply": "2024-01-26T20:35:37.742914Z"
    },
    "papermill": {
     "duration": 0.031067,
     "end_time": "2024-01-26T20:35:37.746272",
     "exception": false,
     "start_time": "2024-01-26T20:35:37.715205",
     "status": "completed"
    },
    "tags": []
   },
   "outputs": [
    {
     "name": "stdout",
     "output_type": "stream",
     "text": [
      "<class 'pandas.core.series.Series'>\n",
      "RangeIndex: 891 entries, 0 to 890\n",
      "Series name: Embarked\n",
      "Non-Null Count  Dtype \n",
      "--------------  ----- \n",
      "889 non-null    object\n",
      "dtypes: object(1)\n",
      "memory usage: 7.1+ KB\n"
     ]
    }
   ],
   "source": [
    "df[\"Embarked\"].info()"
   ]
  },
  {
   "cell_type": "code",
   "execution_count": 40,
   "id": "ffa45366",
   "metadata": {
    "execution": {
     "iopub.execute_input": "2024-01-26T20:35:37.783868Z",
     "iopub.status.busy": "2024-01-26T20:35:37.783161Z",
     "iopub.status.idle": "2024-01-26T20:35:37.788683Z",
     "shell.execute_reply": "2024-01-26T20:35:37.787831Z"
    },
    "papermill": {
     "duration": 0.027305,
     "end_time": "2024-01-26T20:35:37.791337",
     "exception": false,
     "start_time": "2024-01-26T20:35:37.764032",
     "status": "completed"
    },
    "tags": []
   },
   "outputs": [],
   "source": [
    "def str_to_int(char_list):              # Converting the column Embarked from C, Q, S to 1,2,3 respectively\n",
    "    result = []\n",
    "    for letter in char_list:\n",
    "        if letter == \"C\":\n",
    "            result.append(1)\n",
    "        elif letter == \"Q\":\n",
    "            result.append(2)\n",
    "        elif letter == \"S\":\n",
    "            result.append(3)\n",
    "        else:\n",
    "           result.append(0)  # Handle other cases if needed\n",
    "    return result"
   ]
  },
  {
   "cell_type": "code",
   "execution_count": 41,
   "id": "52a7878b",
   "metadata": {
    "execution": {
     "iopub.execute_input": "2024-01-26T20:35:37.829334Z",
     "iopub.status.busy": "2024-01-26T20:35:37.828633Z",
     "iopub.status.idle": "2024-01-26T20:35:37.834830Z",
     "shell.execute_reply": "2024-01-26T20:35:37.833863Z"
    },
    "papermill": {
     "duration": 0.027592,
     "end_time": "2024-01-26T20:35:37.836960",
     "exception": false,
     "start_time": "2024-01-26T20:35:37.809368",
     "status": "completed"
    },
    "tags": []
   },
   "outputs": [
    {
     "data": {
      "text/plain": [
       "891"
      ]
     },
     "execution_count": 41,
     "metadata": {},
     "output_type": "execute_result"
    }
   ],
   "source": [
    "embarkment = str_to_int(df[\"Embarked\"])\n",
    "len(embarkment)"
   ]
  },
  {
   "cell_type": "code",
   "execution_count": 42,
   "id": "52c69202",
   "metadata": {
    "execution": {
     "iopub.execute_input": "2024-01-26T20:35:37.874958Z",
     "iopub.status.busy": "2024-01-26T20:35:37.874287Z",
     "iopub.status.idle": "2024-01-26T20:35:37.903239Z",
     "shell.execute_reply": "2024-01-26T20:35:37.902130Z"
    },
    "papermill": {
     "duration": 0.05068,
     "end_time": "2024-01-26T20:35:37.905678",
     "exception": false,
     "start_time": "2024-01-26T20:35:37.854998",
     "status": "completed"
    },
    "tags": []
   },
   "outputs": [
    {
     "data": {
      "text/html": [
       "<style>#sk-container-id-3 {color: black;background-color: white;}#sk-container-id-3 pre{padding: 0;}#sk-container-id-3 div.sk-toggleable {background-color: white;}#sk-container-id-3 label.sk-toggleable__label {cursor: pointer;display: block;width: 100%;margin-bottom: 0;padding: 0.3em;box-sizing: border-box;text-align: center;}#sk-container-id-3 label.sk-toggleable__label-arrow:before {content: \"▸\";float: left;margin-right: 0.25em;color: #696969;}#sk-container-id-3 label.sk-toggleable__label-arrow:hover:before {color: black;}#sk-container-id-3 div.sk-estimator:hover label.sk-toggleable__label-arrow:before {color: black;}#sk-container-id-3 div.sk-toggleable__content {max-height: 0;max-width: 0;overflow: hidden;text-align: left;background-color: #f0f8ff;}#sk-container-id-3 div.sk-toggleable__content pre {margin: 0.2em;color: black;border-radius: 0.25em;background-color: #f0f8ff;}#sk-container-id-3 input.sk-toggleable__control:checked~div.sk-toggleable__content {max-height: 200px;max-width: 100%;overflow: auto;}#sk-container-id-3 input.sk-toggleable__control:checked~label.sk-toggleable__label-arrow:before {content: \"▾\";}#sk-container-id-3 div.sk-estimator input.sk-toggleable__control:checked~label.sk-toggleable__label {background-color: #d4ebff;}#sk-container-id-3 div.sk-label input.sk-toggleable__control:checked~label.sk-toggleable__label {background-color: #d4ebff;}#sk-container-id-3 input.sk-hidden--visually {border: 0;clip: rect(1px 1px 1px 1px);clip: rect(1px, 1px, 1px, 1px);height: 1px;margin: -1px;overflow: hidden;padding: 0;position: absolute;width: 1px;}#sk-container-id-3 div.sk-estimator {font-family: monospace;background-color: #f0f8ff;border: 1px dotted black;border-radius: 0.25em;box-sizing: border-box;margin-bottom: 0.5em;}#sk-container-id-3 div.sk-estimator:hover {background-color: #d4ebff;}#sk-container-id-3 div.sk-parallel-item::after {content: \"\";width: 100%;border-bottom: 1px solid gray;flex-grow: 1;}#sk-container-id-3 div.sk-label:hover label.sk-toggleable__label {background-color: #d4ebff;}#sk-container-id-3 div.sk-serial::before {content: \"\";position: absolute;border-left: 1px solid gray;box-sizing: border-box;top: 0;bottom: 0;left: 50%;z-index: 0;}#sk-container-id-3 div.sk-serial {display: flex;flex-direction: column;align-items: center;background-color: white;padding-right: 0.2em;padding-left: 0.2em;position: relative;}#sk-container-id-3 div.sk-item {position: relative;z-index: 1;}#sk-container-id-3 div.sk-parallel {display: flex;align-items: stretch;justify-content: center;background-color: white;position: relative;}#sk-container-id-3 div.sk-item::before, #sk-container-id-3 div.sk-parallel-item::before {content: \"\";position: absolute;border-left: 1px solid gray;box-sizing: border-box;top: 0;bottom: 0;left: 50%;z-index: -1;}#sk-container-id-3 div.sk-parallel-item {display: flex;flex-direction: column;z-index: 1;position: relative;background-color: white;}#sk-container-id-3 div.sk-parallel-item:first-child::after {align-self: flex-end;width: 50%;}#sk-container-id-3 div.sk-parallel-item:last-child::after {align-self: flex-start;width: 50%;}#sk-container-id-3 div.sk-parallel-item:only-child::after {width: 0;}#sk-container-id-3 div.sk-dashed-wrapped {border: 1px dashed gray;margin: 0 0.4em 0.5em 0.4em;box-sizing: border-box;padding-bottom: 0.4em;background-color: white;}#sk-container-id-3 div.sk-label label {font-family: monospace;font-weight: bold;display: inline-block;line-height: 1.2em;}#sk-container-id-3 div.sk-label-container {text-align: center;}#sk-container-id-3 div.sk-container {/* jupyter's `normalize.less` sets `[hidden] { display: none; }` but bootstrap.min.css set `[hidden] { display: none !important; }` so we also need the `!important` here to be able to override the default hidden behavior on the sphinx rendered scikit-learn.org. See: https://github.com/scikit-learn/scikit-learn/issues/21755 */display: inline-block !important;position: relative;}#sk-container-id-3 div.sk-text-repr-fallback {display: none;}</style><div id=\"sk-container-id-3\" class=\"sk-top-container\"><div class=\"sk-text-repr-fallback\"><pre>DecisionTreeClassifier()</pre><b>In a Jupyter environment, please rerun this cell to show the HTML representation or trust the notebook. <br />On GitHub, the HTML representation is unable to render, please try loading this page with nbviewer.org.</b></div><div class=\"sk-container\" hidden><div class=\"sk-item\"><div class=\"sk-estimator sk-toggleable\"><input class=\"sk-toggleable__control sk-hidden--visually\" id=\"sk-estimator-id-3\" type=\"checkbox\" checked><label for=\"sk-estimator-id-3\" class=\"sk-toggleable__label sk-toggleable__label-arrow\">DecisionTreeClassifier</label><div class=\"sk-toggleable__content\"><pre>DecisionTreeClassifier()</pre></div></div></div></div></div>"
      ],
      "text/plain": [
       "DecisionTreeClassifier()"
      ]
     },
     "execution_count": 42,
     "metadata": {},
     "output_type": "execute_result"
    }
   ],
   "source": [
    "#Adding another variable, \"Embarked\" and train the model\n",
    "\n",
    "predictors = pd.DataFrame([encoded_sex, df[\"Pclass\"], embarkment]).T\n",
    "#Train the model\n",
    "tree_model.fit(X = predictors,\n",
    "              y = df[\"Survived\"])\n"
   ]
  },
  {
   "cell_type": "code",
   "execution_count": 43,
   "id": "57024015",
   "metadata": {
    "execution": {
     "iopub.execute_input": "2024-01-26T20:35:37.944640Z",
     "iopub.status.busy": "2024-01-26T20:35:37.943665Z",
     "iopub.status.idle": "2024-01-26T20:35:37.977996Z",
     "shell.execute_reply": "2024-01-26T20:35:37.977088Z"
    },
    "papermill": {
     "duration": 0.056575,
     "end_time": "2024-01-26T20:35:37.980423",
     "exception": false,
     "start_time": "2024-01-26T20:35:37.923848",
     "status": "completed"
    },
    "tags": []
   },
   "outputs": [
    {
     "data": {
      "image/svg+xml": [
       "<?xml version=\"1.0\" encoding=\"UTF-8\" standalone=\"no\"?>\n",
       "<!DOCTYPE svg PUBLIC \"-//W3C//DTD SVG 1.1//EN\"\n",
       " \"http://www.w3.org/Graphics/SVG/1.1/DTD/svg11.dtd\">\n",
       "<!-- Generated by graphviz version 9.0.0 (20231125.0833)\n",
       " -->\n",
       "<!-- Title: Tree Pages: 1 -->\n",
       "<svg width=\"1915pt\" height=\"746pt\"\n",
       " viewBox=\"0.00 0.00 1914.50 745.75\" xmlns=\"http://www.w3.org/2000/svg\" xmlns:xlink=\"http://www.w3.org/1999/xlink\">\n",
       "<g id=\"graph0\" class=\"graph\" transform=\"scale(1 1) rotate(0) translate(4 741.75)\">\n",
       "<title>Tree</title>\n",
       "<polygon fill=\"white\" stroke=\"none\" points=\"-4,4 -4,-741.75 1910.5,-741.75 1910.5,4 -4,4\"/>\n",
       "<!-- 0 -->\n",
       "<g id=\"node1\" class=\"node\">\n",
       "<title>0</title>\n",
       "<polygon fill=\"none\" stroke=\"black\" points=\"927,-737.75 779,-737.75 779,-660.75 927,-660.75 927,-737.75\"/>\n",
       "<text text-anchor=\"middle\" x=\"853\" y=\"-720.45\" font-family=\"Helvetica,sans-Serif\" font-size=\"14.00\">x[0] &lt;= 0.5</text>\n",
       "<text text-anchor=\"middle\" x=\"853\" y=\"-703.2\" font-family=\"Helvetica,sans-Serif\" font-size=\"14.00\">gini = 0.473</text>\n",
       "<text text-anchor=\"middle\" x=\"853\" y=\"-685.95\" font-family=\"Helvetica,sans-Serif\" font-size=\"14.00\">samples = 891</text>\n",
       "<text text-anchor=\"middle\" x=\"853\" y=\"-668.7\" font-family=\"Helvetica,sans-Serif\" font-size=\"14.00\">value = [549, 342]</text>\n",
       "</g>\n",
       "<!-- 1 -->\n",
       "<g id=\"node2\" class=\"node\">\n",
       "<title>1</title>\n",
       "<polygon fill=\"none\" stroke=\"black\" points=\"774.5,-624.75 635.5,-624.75 635.5,-547.75 774.5,-547.75 774.5,-624.75\"/>\n",
       "<text text-anchor=\"middle\" x=\"705\" y=\"-607.45\" font-family=\"Helvetica,sans-Serif\" font-size=\"14.00\">x[1] &lt;= 2.5</text>\n",
       "<text text-anchor=\"middle\" x=\"705\" y=\"-590.2\" font-family=\"Helvetica,sans-Serif\" font-size=\"14.00\">gini = 0.383</text>\n",
       "<text text-anchor=\"middle\" x=\"705\" y=\"-572.95\" font-family=\"Helvetica,sans-Serif\" font-size=\"14.00\">samples = 314</text>\n",
       "<text text-anchor=\"middle\" x=\"705\" y=\"-555.7\" font-family=\"Helvetica,sans-Serif\" font-size=\"14.00\">value = [81, 233]</text>\n",
       "</g>\n",
       "<!-- 0&#45;&gt;1 -->\n",
       "<g id=\"edge1\" class=\"edge\">\n",
       "<title>0&#45;&gt;1</title>\n",
       "<path fill=\"none\" stroke=\"black\" d=\"M802.48,-660.36C790.28,-651.21 777.14,-641.35 764.57,-631.93\"/>\n",
       "<polygon fill=\"black\" stroke=\"black\" points=\"766.85,-629.27 756.75,-626.07 762.65,-634.87 766.85,-629.27\"/>\n",
       "<text text-anchor=\"middle\" x=\"759.08\" y=\"-645.23\" font-family=\"Helvetica,sans-Serif\" font-size=\"14.00\">True</text>\n",
       "</g>\n",
       "<!-- 18 -->\n",
       "<g id=\"node19\" class=\"node\">\n",
       "<title>18</title>\n",
       "<polygon fill=\"none\" stroke=\"black\" points=\"1115,-624.75 967,-624.75 967,-547.75 1115,-547.75 1115,-624.75\"/>\n",
       "<text text-anchor=\"middle\" x=\"1041\" y=\"-607.45\" font-family=\"Helvetica,sans-Serif\" font-size=\"14.00\">x[1] &lt;= 1.5</text>\n",
       "<text text-anchor=\"middle\" x=\"1041\" y=\"-590.2\" font-family=\"Helvetica,sans-Serif\" font-size=\"14.00\">gini = 0.306</text>\n",
       "<text text-anchor=\"middle\" x=\"1041\" y=\"-572.95\" font-family=\"Helvetica,sans-Serif\" font-size=\"14.00\">samples = 577</text>\n",
       "<text text-anchor=\"middle\" x=\"1041\" y=\"-555.7\" font-family=\"Helvetica,sans-Serif\" font-size=\"14.00\">value = [468, 109]</text>\n",
       "</g>\n",
       "<!-- 0&#45;&gt;18 -->\n",
       "<g id=\"edge18\" class=\"edge\">\n",
       "<title>0&#45;&gt;18</title>\n",
       "<path fill=\"none\" stroke=\"black\" d=\"M917.17,-660.36C933.27,-650.86 950.66,-640.59 967.19,-630.83\"/>\n",
       "<polygon fill=\"black\" stroke=\"black\" points=\"968.66,-634.02 975.49,-625.93 965.1,-628 968.66,-634.02\"/>\n",
       "<text text-anchor=\"middle\" x=\"970.56\" y=\"-644.69\" font-family=\"Helvetica,sans-Serif\" font-size=\"14.00\">False</text>\n",
       "</g>\n",
       "<!-- 2 -->\n",
       "<g id=\"node3\" class=\"node\">\n",
       "<title>2</title>\n",
       "<polygon fill=\"none\" stroke=\"black\" points=\"555,-511.75 425,-511.75 425,-434.75 555,-434.75 555,-511.75\"/>\n",
       "<text text-anchor=\"middle\" x=\"490\" y=\"-494.45\" font-family=\"Helvetica,sans-Serif\" font-size=\"14.00\">x[2] &lt;= 2.5</text>\n",
       "<text text-anchor=\"middle\" x=\"490\" y=\"-477.2\" font-family=\"Helvetica,sans-Serif\" font-size=\"14.00\">gini = 0.1</text>\n",
       "<text text-anchor=\"middle\" x=\"490\" y=\"-459.95\" font-family=\"Helvetica,sans-Serif\" font-size=\"14.00\">samples = 170</text>\n",
       "<text text-anchor=\"middle\" x=\"490\" y=\"-442.7\" font-family=\"Helvetica,sans-Serif\" font-size=\"14.00\">value = [9, 161]</text>\n",
       "</g>\n",
       "<!-- 1&#45;&gt;2 -->\n",
       "<g id=\"edge2\" class=\"edge\">\n",
       "<title>1&#45;&gt;2</title>\n",
       "<path fill=\"none\" stroke=\"black\" d=\"M635.2,-549.21C612.97,-537.74 588.29,-524.99 565.67,-513.32\"/>\n",
       "<polygon fill=\"black\" stroke=\"black\" points=\"567.28,-510.21 556.79,-508.73 564.07,-516.43 567.28,-510.21\"/>\n",
       "</g>\n",
       "<!-- 13 -->\n",
       "<g id=\"node14\" class=\"node\">\n",
       "<title>13</title>\n",
       "<polygon fill=\"none\" stroke=\"black\" points=\"770,-511.75 640,-511.75 640,-434.75 770,-434.75 770,-511.75\"/>\n",
       "<text text-anchor=\"middle\" x=\"705\" y=\"-494.45\" font-family=\"Helvetica,sans-Serif\" font-size=\"14.00\">x[2] &lt;= 2.5</text>\n",
       "<text text-anchor=\"middle\" x=\"705\" y=\"-477.2\" font-family=\"Helvetica,sans-Serif\" font-size=\"14.00\">gini = 0.5</text>\n",
       "<text text-anchor=\"middle\" x=\"705\" y=\"-459.95\" font-family=\"Helvetica,sans-Serif\" font-size=\"14.00\">samples = 144</text>\n",
       "<text text-anchor=\"middle\" x=\"705\" y=\"-442.7\" font-family=\"Helvetica,sans-Serif\" font-size=\"14.00\">value = [72, 72]</text>\n",
       "</g>\n",
       "<!-- 1&#45;&gt;13 -->\n",
       "<g id=\"edge13\" class=\"edge\">\n",
       "<title>1&#45;&gt;13</title>\n",
       "<path fill=\"none\" stroke=\"black\" d=\"M705,-547.36C705,-539.59 705,-531.31 705,-523.21\"/>\n",
       "<polygon fill=\"black\" stroke=\"black\" points=\"708.5,-523.48 705,-513.48 701.5,-523.48 708.5,-523.48\"/>\n",
       "</g>\n",
       "<!-- 3 -->\n",
       "<g id=\"node4\" class=\"node\">\n",
       "<title>3</title>\n",
       "<polygon fill=\"none\" stroke=\"black\" points=\"318.5,-398.75 197.5,-398.75 197.5,-321.75 318.5,-321.75 318.5,-398.75\"/>\n",
       "<text text-anchor=\"middle\" x=\"258\" y=\"-381.45\" font-family=\"Helvetica,sans-Serif\" font-size=\"14.00\">x[1] &lt;= 1.5</text>\n",
       "<text text-anchor=\"middle\" x=\"258\" y=\"-364.2\" font-family=\"Helvetica,sans-Serif\" font-size=\"14.00\">gini = 0.036</text>\n",
       "<text text-anchor=\"middle\" x=\"258\" y=\"-346.95\" font-family=\"Helvetica,sans-Serif\" font-size=\"14.00\">samples = 55</text>\n",
       "<text text-anchor=\"middle\" x=\"258\" y=\"-329.7\" font-family=\"Helvetica,sans-Serif\" font-size=\"14.00\">value = [1, 54]</text>\n",
       "</g>\n",
       "<!-- 2&#45;&gt;3 -->\n",
       "<g id=\"edge3\" class=\"edge\">\n",
       "<title>2&#45;&gt;3</title>\n",
       "<path fill=\"none\" stroke=\"black\" d=\"M424.76,-441.03C394.9,-426.75 359.44,-409.79 328.92,-395.18\"/>\n",
       "<polygon fill=\"black\" stroke=\"black\" points=\"330.67,-392.14 320.14,-390.98 327.65,-398.45 330.67,-392.14\"/>\n",
       "</g>\n",
       "<!-- 10 -->\n",
       "<g id=\"node11\" class=\"node\">\n",
       "<title>10</title>\n",
       "<polygon fill=\"none\" stroke=\"black\" points=\"555,-398.75 425,-398.75 425,-321.75 555,-321.75 555,-398.75\"/>\n",
       "<text text-anchor=\"middle\" x=\"490\" y=\"-381.45\" font-family=\"Helvetica,sans-Serif\" font-size=\"14.00\">x[1] &lt;= 1.5</text>\n",
       "<text text-anchor=\"middle\" x=\"490\" y=\"-364.2\" font-family=\"Helvetica,sans-Serif\" font-size=\"14.00\">gini = 0.129</text>\n",
       "<text text-anchor=\"middle\" x=\"490\" y=\"-346.95\" font-family=\"Helvetica,sans-Serif\" font-size=\"14.00\">samples = 115</text>\n",
       "<text text-anchor=\"middle\" x=\"490\" y=\"-329.7\" font-family=\"Helvetica,sans-Serif\" font-size=\"14.00\">value = [8, 107]</text>\n",
       "</g>\n",
       "<!-- 2&#45;&gt;10 -->\n",
       "<g id=\"edge10\" class=\"edge\">\n",
       "<title>2&#45;&gt;10</title>\n",
       "<path fill=\"none\" stroke=\"black\" d=\"M490,-434.36C490,-426.59 490,-418.31 490,-410.21\"/>\n",
       "<polygon fill=\"black\" stroke=\"black\" points=\"493.5,-410.48 490,-400.48 486.5,-410.48 493.5,-410.48\"/>\n",
       "</g>\n",
       "<!-- 4 -->\n",
       "<g id=\"node5\" class=\"node\">\n",
       "<title>4</title>\n",
       "<polygon fill=\"none\" stroke=\"black\" points=\"183.5,-285.75 62.5,-285.75 62.5,-208.75 183.5,-208.75 183.5,-285.75\"/>\n",
       "<text text-anchor=\"middle\" x=\"123\" y=\"-268.45\" font-family=\"Helvetica,sans-Serif\" font-size=\"14.00\">x[2] &lt;= 0.5</text>\n",
       "<text text-anchor=\"middle\" x=\"123\" y=\"-251.2\" font-family=\"Helvetica,sans-Serif\" font-size=\"14.00\">gini = 0.043</text>\n",
       "<text text-anchor=\"middle\" x=\"123\" y=\"-233.95\" font-family=\"Helvetica,sans-Serif\" font-size=\"14.00\">samples = 46</text>\n",
       "<text text-anchor=\"middle\" x=\"123\" y=\"-216.7\" font-family=\"Helvetica,sans-Serif\" font-size=\"14.00\">value = [1, 45]</text>\n",
       "</g>\n",
       "<!-- 3&#45;&gt;4 -->\n",
       "<g id=\"edge4\" class=\"edge\">\n",
       "<title>3&#45;&gt;4</title>\n",
       "<path fill=\"none\" stroke=\"black\" d=\"M211.92,-321.36C200.84,-312.25 188.9,-302.44 177.48,-293.05\"/>\n",
       "<polygon fill=\"black\" stroke=\"black\" points=\"179.99,-290.58 170.04,-286.93 175.54,-295.98 179.99,-290.58\"/>\n",
       "</g>\n",
       "<!-- 9 -->\n",
       "<g id=\"node10\" class=\"node\">\n",
       "<title>9</title>\n",
       "<polygon fill=\"none\" stroke=\"black\" points=\"314,-277.12 202,-277.12 202,-217.38 314,-217.38 314,-277.12\"/>\n",
       "<text text-anchor=\"middle\" x=\"258\" y=\"-259.82\" font-family=\"Helvetica,sans-Serif\" font-size=\"14.00\">gini = 0.0</text>\n",
       "<text text-anchor=\"middle\" x=\"258\" y=\"-242.57\" font-family=\"Helvetica,sans-Serif\" font-size=\"14.00\">samples = 9</text>\n",
       "<text text-anchor=\"middle\" x=\"258\" y=\"-225.32\" font-family=\"Helvetica,sans-Serif\" font-size=\"14.00\">value = [0, 9]</text>\n",
       "</g>\n",
       "<!-- 3&#45;&gt;9 -->\n",
       "<g id=\"edge9\" class=\"edge\">\n",
       "<title>3&#45;&gt;9</title>\n",
       "<path fill=\"none\" stroke=\"black\" d=\"M258,-321.36C258,-310.96 258,-299.63 258,-289.07\"/>\n",
       "<polygon fill=\"black\" stroke=\"black\" points=\"261.5,-289.07 258,-279.07 254.5,-289.07 261.5,-289.07\"/>\n",
       "</g>\n",
       "<!-- 5 -->\n",
       "<g id=\"node6\" class=\"node\">\n",
       "<title>5</title>\n",
       "<polygon fill=\"none\" stroke=\"black\" points=\"112,-164.12 0,-164.12 0,-104.38 112,-104.38 112,-164.12\"/>\n",
       "<text text-anchor=\"middle\" x=\"56\" y=\"-146.82\" font-family=\"Helvetica,sans-Serif\" font-size=\"14.00\">gini = 0.0</text>\n",
       "<text text-anchor=\"middle\" x=\"56\" y=\"-129.57\" font-family=\"Helvetica,sans-Serif\" font-size=\"14.00\">samples = 2</text>\n",
       "<text text-anchor=\"middle\" x=\"56\" y=\"-112.33\" font-family=\"Helvetica,sans-Serif\" font-size=\"14.00\">value = [0, 2]</text>\n",
       "</g>\n",
       "<!-- 4&#45;&gt;5 -->\n",
       "<g id=\"edge5\" class=\"edge\">\n",
       "<title>4&#45;&gt;5</title>\n",
       "<path fill=\"none\" stroke=\"black\" d=\"M100.13,-208.36C93.51,-197.4 86.28,-185.41 79.62,-174.37\"/>\n",
       "<polygon fill=\"black\" stroke=\"black\" points=\"82.64,-172.61 74.47,-165.86 76.65,-176.23 82.64,-172.61\"/>\n",
       "</g>\n",
       "<!-- 6 -->\n",
       "<g id=\"node7\" class=\"node\">\n",
       "<title>6</title>\n",
       "<polygon fill=\"none\" stroke=\"black\" points=\"251.5,-172.75 130.5,-172.75 130.5,-95.75 251.5,-95.75 251.5,-172.75\"/>\n",
       "<text text-anchor=\"middle\" x=\"191\" y=\"-155.45\" font-family=\"Helvetica,sans-Serif\" font-size=\"14.00\">x[2] &lt;= 1.5</text>\n",
       "<text text-anchor=\"middle\" x=\"191\" y=\"-138.2\" font-family=\"Helvetica,sans-Serif\" font-size=\"14.00\">gini = 0.044</text>\n",
       "<text text-anchor=\"middle\" x=\"191\" y=\"-120.95\" font-family=\"Helvetica,sans-Serif\" font-size=\"14.00\">samples = 44</text>\n",
       "<text text-anchor=\"middle\" x=\"191\" y=\"-103.7\" font-family=\"Helvetica,sans-Serif\" font-size=\"14.00\">value = [1, 43]</text>\n",
       "</g>\n",
       "<!-- 4&#45;&gt;6 -->\n",
       "<g id=\"edge6\" class=\"edge\">\n",
       "<title>4&#45;&gt;6</title>\n",
       "<path fill=\"none\" stroke=\"black\" d=\"M146.21,-208.36C151.3,-200.06 156.75,-191.16 162.03,-182.54\"/>\n",
       "<polygon fill=\"black\" stroke=\"black\" points=\"164.86,-184.61 167.1,-174.26 158.89,-180.96 164.86,-184.61\"/>\n",
       "</g>\n",
       "<!-- 7 -->\n",
       "<g id=\"node8\" class=\"node\">\n",
       "<title>7</title>\n",
       "<polygon fill=\"none\" stroke=\"black\" points=\"184.5,-59.75 63.5,-59.75 63.5,0 184.5,0 184.5,-59.75\"/>\n",
       "<text text-anchor=\"middle\" x=\"124\" y=\"-42.45\" font-family=\"Helvetica,sans-Serif\" font-size=\"14.00\">gini = 0.045</text>\n",
       "<text text-anchor=\"middle\" x=\"124\" y=\"-25.2\" font-family=\"Helvetica,sans-Serif\" font-size=\"14.00\">samples = 43</text>\n",
       "<text text-anchor=\"middle\" x=\"124\" y=\"-7.95\" font-family=\"Helvetica,sans-Serif\" font-size=\"14.00\">value = [1, 42]</text>\n",
       "</g>\n",
       "<!-- 6&#45;&gt;7 -->\n",
       "<g id=\"edge7\" class=\"edge\">\n",
       "<title>6&#45;&gt;7</title>\n",
       "<path fill=\"none\" stroke=\"black\" d=\"M166.24,-95.42C160.78,-87.07 154.98,-78.21 149.48,-69.81\"/>\n",
       "<polygon fill=\"black\" stroke=\"black\" points=\"152.45,-67.95 144.04,-61.5 146.59,-71.78 152.45,-67.95\"/>\n",
       "</g>\n",
       "<!-- 8 -->\n",
       "<g id=\"node9\" class=\"node\">\n",
       "<title>8</title>\n",
       "<polygon fill=\"none\" stroke=\"black\" points=\"315,-59.75 203,-59.75 203,0 315,0 315,-59.75\"/>\n",
       "<text text-anchor=\"middle\" x=\"259\" y=\"-42.45\" font-family=\"Helvetica,sans-Serif\" font-size=\"14.00\">gini = 0.0</text>\n",
       "<text text-anchor=\"middle\" x=\"259\" y=\"-25.2\" font-family=\"Helvetica,sans-Serif\" font-size=\"14.00\">samples = 1</text>\n",
       "<text text-anchor=\"middle\" x=\"259\" y=\"-7.95\" font-family=\"Helvetica,sans-Serif\" font-size=\"14.00\">value = [0, 1]</text>\n",
       "</g>\n",
       "<!-- 6&#45;&gt;8 -->\n",
       "<g id=\"edge8\" class=\"edge\">\n",
       "<title>6&#45;&gt;8</title>\n",
       "<path fill=\"none\" stroke=\"black\" d=\"M216.13,-95.42C221.67,-87.07 227.56,-78.21 233.14,-69.81\"/>\n",
       "<polygon fill=\"black\" stroke=\"black\" points=\"236.05,-71.76 238.66,-61.49 230.22,-67.88 236.05,-71.76\"/>\n",
       "</g>\n",
       "<!-- 11 -->\n",
       "<g id=\"node12\" class=\"node\">\n",
       "<title>11</title>\n",
       "<polygon fill=\"none\" stroke=\"black\" points=\"453.5,-277.12 332.5,-277.12 332.5,-217.38 453.5,-217.38 453.5,-277.12\"/>\n",
       "<text text-anchor=\"middle\" x=\"393\" y=\"-259.82\" font-family=\"Helvetica,sans-Serif\" font-size=\"14.00\">gini = 0.08</text>\n",
       "<text text-anchor=\"middle\" x=\"393\" y=\"-242.57\" font-family=\"Helvetica,sans-Serif\" font-size=\"14.00\">samples = 48</text>\n",
       "<text text-anchor=\"middle\" x=\"393\" y=\"-225.32\" font-family=\"Helvetica,sans-Serif\" font-size=\"14.00\">value = [2, 46]</text>\n",
       "</g>\n",
       "<!-- 10&#45;&gt;11 -->\n",
       "<g id=\"edge11\" class=\"edge\">\n",
       "<title>10&#45;&gt;11</title>\n",
       "<path fill=\"none\" stroke=\"black\" d=\"M456.89,-321.36C446.92,-309.95 435.98,-297.43 426.01,-286.03\"/>\n",
       "<polygon fill=\"black\" stroke=\"black\" points=\"428.83,-283.93 419.61,-278.7 423.56,-288.53 428.83,-283.93\"/>\n",
       "</g>\n",
       "<!-- 12 -->\n",
       "<g id=\"node13\" class=\"node\">\n",
       "<title>12</title>\n",
       "<polygon fill=\"none\" stroke=\"black\" points=\"592.5,-277.12 471.5,-277.12 471.5,-217.38 592.5,-217.38 592.5,-277.12\"/>\n",
       "<text text-anchor=\"middle\" x=\"532\" y=\"-259.82\" font-family=\"Helvetica,sans-Serif\" font-size=\"14.00\">gini = 0.163</text>\n",
       "<text text-anchor=\"middle\" x=\"532\" y=\"-242.57\" font-family=\"Helvetica,sans-Serif\" font-size=\"14.00\">samples = 67</text>\n",
       "<text text-anchor=\"middle\" x=\"532\" y=\"-225.32\" font-family=\"Helvetica,sans-Serif\" font-size=\"14.00\">value = [6, 61]</text>\n",
       "</g>\n",
       "<!-- 10&#45;&gt;12 -->\n",
       "<g id=\"edge12\" class=\"edge\">\n",
       "<title>10&#45;&gt;12</title>\n",
       "<path fill=\"none\" stroke=\"black\" d=\"M504.34,-321.36C508.4,-310.62 512.84,-298.9 516.94,-288.05\"/>\n",
       "<polygon fill=\"black\" stroke=\"black\" points=\"520.11,-289.57 520.37,-278.98 513.56,-287.09 520.11,-289.57\"/>\n",
       "</g>\n",
       "<!-- 14 -->\n",
       "<g id=\"node15\" class=\"node\">\n",
       "<title>14</title>\n",
       "<polygon fill=\"none\" stroke=\"black\" points=\"736,-398.75 606,-398.75 606,-321.75 736,-321.75 736,-398.75\"/>\n",
       "<text text-anchor=\"middle\" x=\"671\" y=\"-381.45\" font-family=\"Helvetica,sans-Serif\" font-size=\"14.00\">x[2] &lt;= 1.5</text>\n",
       "<text text-anchor=\"middle\" x=\"671\" y=\"-364.2\" font-family=\"Helvetica,sans-Serif\" font-size=\"14.00\">gini = 0.423</text>\n",
       "<text text-anchor=\"middle\" x=\"671\" y=\"-346.95\" font-family=\"Helvetica,sans-Serif\" font-size=\"14.00\">samples = 56</text>\n",
       "<text text-anchor=\"middle\" x=\"671\" y=\"-329.7\" font-family=\"Helvetica,sans-Serif\" font-size=\"14.00\">value = [17, 39]</text>\n",
       "</g>\n",
       "<!-- 13&#45;&gt;14 -->\n",
       "<g id=\"edge14\" class=\"edge\">\n",
       "<title>13&#45;&gt;14</title>\n",
       "<path fill=\"none\" stroke=\"black\" d=\"M693.39,-434.36C690.99,-426.5 688.42,-418.12 685.91,-409.94\"/>\n",
       "<polygon fill=\"black\" stroke=\"black\" points=\"689.27,-408.95 683,-400.42 682.58,-411 689.27,-408.95\"/>\n",
       "</g>\n",
       "<!-- 17 -->\n",
       "<g id=\"node18\" class=\"node\">\n",
       "<title>17</title>\n",
       "<polygon fill=\"none\" stroke=\"black\" points=\"884,-390.12 754,-390.12 754,-330.38 884,-330.38 884,-390.12\"/>\n",
       "<text text-anchor=\"middle\" x=\"819\" y=\"-372.82\" font-family=\"Helvetica,sans-Serif\" font-size=\"14.00\">gini = 0.469</text>\n",
       "<text text-anchor=\"middle\" x=\"819\" y=\"-355.57\" font-family=\"Helvetica,sans-Serif\" font-size=\"14.00\">samples = 88</text>\n",
       "<text text-anchor=\"middle\" x=\"819\" y=\"-338.32\" font-family=\"Helvetica,sans-Serif\" font-size=\"14.00\">value = [55, 33]</text>\n",
       "</g>\n",
       "<!-- 13&#45;&gt;17 -->\n",
       "<g id=\"edge17\" class=\"edge\">\n",
       "<title>13&#45;&gt;17</title>\n",
       "<path fill=\"none\" stroke=\"black\" d=\"M743.91,-434.36C755.86,-422.73 768.99,-409.94 780.89,-398.36\"/>\n",
       "<polygon fill=\"black\" stroke=\"black\" points=\"783.09,-401.1 787.81,-391.62 778.21,-396.09 783.09,-401.1\"/>\n",
       "</g>\n",
       "<!-- 15 -->\n",
       "<g id=\"node16\" class=\"node\">\n",
       "<title>15</title>\n",
       "<polygon fill=\"none\" stroke=\"black\" points=\"731.5,-277.12 610.5,-277.12 610.5,-217.38 731.5,-217.38 731.5,-277.12\"/>\n",
       "<text text-anchor=\"middle\" x=\"671\" y=\"-259.82\" font-family=\"Helvetica,sans-Serif\" font-size=\"14.00\">gini = 0.454</text>\n",
       "<text text-anchor=\"middle\" x=\"671\" y=\"-242.57\" font-family=\"Helvetica,sans-Serif\" font-size=\"14.00\">samples = 23</text>\n",
       "<text text-anchor=\"middle\" x=\"671\" y=\"-225.32\" font-family=\"Helvetica,sans-Serif\" font-size=\"14.00\">value = [8, 15]</text>\n",
       "</g>\n",
       "<!-- 14&#45;&gt;15 -->\n",
       "<g id=\"edge15\" class=\"edge\">\n",
       "<title>14&#45;&gt;15</title>\n",
       "<path fill=\"none\" stroke=\"black\" d=\"M671,-321.36C671,-310.96 671,-299.63 671,-289.07\"/>\n",
       "<polygon fill=\"black\" stroke=\"black\" points=\"674.5,-289.07 671,-279.07 667.5,-289.07 674.5,-289.07\"/>\n",
       "</g>\n",
       "<!-- 16 -->\n",
       "<g id=\"node17\" class=\"node\">\n",
       "<title>16</title>\n",
       "<polygon fill=\"none\" stroke=\"black\" points=\"870.5,-277.12 749.5,-277.12 749.5,-217.38 870.5,-217.38 870.5,-277.12\"/>\n",
       "<text text-anchor=\"middle\" x=\"810\" y=\"-259.82\" font-family=\"Helvetica,sans-Serif\" font-size=\"14.00\">gini = 0.397</text>\n",
       "<text text-anchor=\"middle\" x=\"810\" y=\"-242.57\" font-family=\"Helvetica,sans-Serif\" font-size=\"14.00\">samples = 33</text>\n",
       "<text text-anchor=\"middle\" x=\"810\" y=\"-225.32\" font-family=\"Helvetica,sans-Serif\" font-size=\"14.00\">value = [9, 24]</text>\n",
       "</g>\n",
       "<!-- 14&#45;&gt;16 -->\n",
       "<g id=\"edge16\" class=\"edge\">\n",
       "<title>14&#45;&gt;16</title>\n",
       "<path fill=\"none\" stroke=\"black\" d=\"M718.45,-321.36C733.3,-309.5 749.64,-296.45 764.37,-284.69\"/>\n",
       "<polygon fill=\"black\" stroke=\"black\" points=\"766.48,-287.48 772.11,-278.51 762.11,-282.01 766.48,-287.48\"/>\n",
       "</g>\n",
       "<!-- 19 -->\n",
       "<g id=\"node20\" class=\"node\">\n",
       "<title>19</title>\n",
       "<polygon fill=\"none\" stroke=\"black\" points=\"1106,-511.75 976,-511.75 976,-434.75 1106,-434.75 1106,-511.75\"/>\n",
       "<text text-anchor=\"middle\" x=\"1041\" y=\"-494.45\" font-family=\"Helvetica,sans-Serif\" font-size=\"14.00\">x[2] &lt;= 1.5</text>\n",
       "<text text-anchor=\"middle\" x=\"1041\" y=\"-477.2\" font-family=\"Helvetica,sans-Serif\" font-size=\"14.00\">gini = 0.466</text>\n",
       "<text text-anchor=\"middle\" x=\"1041\" y=\"-459.95\" font-family=\"Helvetica,sans-Serif\" font-size=\"14.00\">samples = 122</text>\n",
       "<text text-anchor=\"middle\" x=\"1041\" y=\"-442.7\" font-family=\"Helvetica,sans-Serif\" font-size=\"14.00\">value = [77, 45]</text>\n",
       "</g>\n",
       "<!-- 18&#45;&gt;19 -->\n",
       "<g id=\"edge19\" class=\"edge\">\n",
       "<title>18&#45;&gt;19</title>\n",
       "<path fill=\"none\" stroke=\"black\" d=\"M1041,-547.36C1041,-539.59 1041,-531.31 1041,-523.21\"/>\n",
       "<polygon fill=\"black\" stroke=\"black\" points=\"1044.5,-523.48 1041,-513.48 1037.5,-523.48 1044.5,-523.48\"/>\n",
       "</g>\n",
       "<!-- 24 -->\n",
       "<g id=\"node25\" class=\"node\">\n",
       "<title>24</title>\n",
       "<polygon fill=\"none\" stroke=\"black\" points=\"1393.5,-511.75 1254.5,-511.75 1254.5,-434.75 1393.5,-434.75 1393.5,-511.75\"/>\n",
       "<text text-anchor=\"middle\" x=\"1324\" y=\"-494.45\" font-family=\"Helvetica,sans-Serif\" font-size=\"14.00\">x[2] &lt;= 1.5</text>\n",
       "<text text-anchor=\"middle\" x=\"1324\" y=\"-477.2\" font-family=\"Helvetica,sans-Serif\" font-size=\"14.00\">gini = 0.242</text>\n",
       "<text text-anchor=\"middle\" x=\"1324\" y=\"-459.95\" font-family=\"Helvetica,sans-Serif\" font-size=\"14.00\">samples = 455</text>\n",
       "<text text-anchor=\"middle\" x=\"1324\" y=\"-442.7\" font-family=\"Helvetica,sans-Serif\" font-size=\"14.00\">value = [391, 64]</text>\n",
       "</g>\n",
       "<!-- 18&#45;&gt;24 -->\n",
       "<g id=\"edge24\" class=\"edge\">\n",
       "<title>18&#45;&gt;24</title>\n",
       "<path fill=\"none\" stroke=\"black\" d=\"M1115.35,-556.09C1154.74,-540.64 1203.16,-521.64 1243.44,-505.85\"/>\n",
       "<polygon fill=\"black\" stroke=\"black\" points=\"1244.59,-509.16 1252.62,-502.25 1242.04,-502.64 1244.59,-509.16\"/>\n",
       "</g>\n",
       "<!-- 20 -->\n",
       "<g id=\"node21\" class=\"node\">\n",
       "<title>20</title>\n",
       "<polygon fill=\"none\" stroke=\"black\" points=\"1032,-390.12 902,-390.12 902,-330.38 1032,-330.38 1032,-390.12\"/>\n",
       "<text text-anchor=\"middle\" x=\"967\" y=\"-372.82\" font-family=\"Helvetica,sans-Serif\" font-size=\"14.00\">gini = 0.482</text>\n",
       "<text text-anchor=\"middle\" x=\"967\" y=\"-355.57\" font-family=\"Helvetica,sans-Serif\" font-size=\"14.00\">samples = 42</text>\n",
       "<text text-anchor=\"middle\" x=\"967\" y=\"-338.32\" font-family=\"Helvetica,sans-Serif\" font-size=\"14.00\">value = [25, 17]</text>\n",
       "</g>\n",
       "<!-- 19&#45;&gt;20 -->\n",
       "<g id=\"edge20\" class=\"edge\">\n",
       "<title>19&#45;&gt;20</title>\n",
       "<path fill=\"none\" stroke=\"black\" d=\"M1015.74,-434.36C1008.36,-423.29 1000.28,-411.17 992.86,-400.04\"/>\n",
       "<polygon fill=\"black\" stroke=\"black\" points=\"995.84,-398.2 987.38,-391.82 990.02,-402.08 995.84,-398.2\"/>\n",
       "</g>\n",
       "<!-- 21 -->\n",
       "<g id=\"node22\" class=\"node\">\n",
       "<title>21</title>\n",
       "<polygon fill=\"none\" stroke=\"black\" points=\"1180,-398.75 1050,-398.75 1050,-321.75 1180,-321.75 1180,-398.75\"/>\n",
       "<text text-anchor=\"middle\" x=\"1115\" y=\"-381.45\" font-family=\"Helvetica,sans-Serif\" font-size=\"14.00\">x[2] &lt;= 2.5</text>\n",
       "<text text-anchor=\"middle\" x=\"1115\" y=\"-364.2\" font-family=\"Helvetica,sans-Serif\" font-size=\"14.00\">gini = 0.455</text>\n",
       "<text text-anchor=\"middle\" x=\"1115\" y=\"-346.95\" font-family=\"Helvetica,sans-Serif\" font-size=\"14.00\">samples = 80</text>\n",
       "<text text-anchor=\"middle\" x=\"1115\" y=\"-329.7\" font-family=\"Helvetica,sans-Serif\" font-size=\"14.00\">value = [52, 28]</text>\n",
       "</g>\n",
       "<!-- 19&#45;&gt;21 -->\n",
       "<g id=\"edge21\" class=\"edge\">\n",
       "<title>19&#45;&gt;21</title>\n",
       "<path fill=\"none\" stroke=\"black\" d=\"M1066.26,-434.36C1071.8,-426.06 1077.72,-417.16 1083.47,-408.54\"/>\n",
       "<polygon fill=\"black\" stroke=\"black\" points=\"1086.38,-410.49 1089.01,-400.23 1080.56,-406.61 1086.38,-410.49\"/>\n",
       "</g>\n",
       "<!-- 22 -->\n",
       "<g id=\"node23\" class=\"node\">\n",
       "<title>22</title>\n",
       "<polygon fill=\"none\" stroke=\"black\" points=\"1032,-277.12 920,-277.12 920,-217.38 1032,-217.38 1032,-277.12\"/>\n",
       "<text text-anchor=\"middle\" x=\"976\" y=\"-259.82\" font-family=\"Helvetica,sans-Serif\" font-size=\"14.00\">gini = 0.0</text>\n",
       "<text text-anchor=\"middle\" x=\"976\" y=\"-242.57\" font-family=\"Helvetica,sans-Serif\" font-size=\"14.00\">samples = 1</text>\n",
       "<text text-anchor=\"middle\" x=\"976\" y=\"-225.32\" font-family=\"Helvetica,sans-Serif\" font-size=\"14.00\">value = [1, 0]</text>\n",
       "</g>\n",
       "<!-- 21&#45;&gt;22 -->\n",
       "<g id=\"edge22\" class=\"edge\">\n",
       "<title>21&#45;&gt;22</title>\n",
       "<path fill=\"none\" stroke=\"black\" d=\"M1067.55,-321.36C1052.7,-309.5 1036.36,-296.45 1021.63,-284.69\"/>\n",
       "<polygon fill=\"black\" stroke=\"black\" points=\"1023.89,-282.01 1013.89,-278.51 1019.52,-287.48 1023.89,-282.01\"/>\n",
       "</g>\n",
       "<!-- 23 -->\n",
       "<g id=\"node24\" class=\"node\">\n",
       "<title>23</title>\n",
       "<polygon fill=\"none\" stroke=\"black\" points=\"1180,-277.12 1050,-277.12 1050,-217.38 1180,-217.38 1180,-277.12\"/>\n",
       "<text text-anchor=\"middle\" x=\"1115\" y=\"-259.82\" font-family=\"Helvetica,sans-Serif\" font-size=\"14.00\">gini = 0.458</text>\n",
       "<text text-anchor=\"middle\" x=\"1115\" y=\"-242.57\" font-family=\"Helvetica,sans-Serif\" font-size=\"14.00\">samples = 79</text>\n",
       "<text text-anchor=\"middle\" x=\"1115\" y=\"-225.32\" font-family=\"Helvetica,sans-Serif\" font-size=\"14.00\">value = [51, 28]</text>\n",
       "</g>\n",
       "<!-- 21&#45;&gt;23 -->\n",
       "<g id=\"edge23\" class=\"edge\">\n",
       "<title>21&#45;&gt;23</title>\n",
       "<path fill=\"none\" stroke=\"black\" d=\"M1115,-321.36C1115,-310.96 1115,-299.63 1115,-289.07\"/>\n",
       "<polygon fill=\"black\" stroke=\"black\" points=\"1118.5,-289.07 1115,-279.07 1111.5,-289.07 1118.5,-289.07\"/>\n",
       "</g>\n",
       "<!-- 25 -->\n",
       "<g id=\"node26\" class=\"node\">\n",
       "<title>25</title>\n",
       "<polygon fill=\"none\" stroke=\"black\" points=\"1389,-398.75 1259,-398.75 1259,-321.75 1389,-321.75 1389,-398.75\"/>\n",
       "<text text-anchor=\"middle\" x=\"1324\" y=\"-381.45\" font-family=\"Helvetica,sans-Serif\" font-size=\"14.00\">x[1] &lt;= 2.5</text>\n",
       "<text text-anchor=\"middle\" x=\"1324\" y=\"-364.2\" font-family=\"Helvetica,sans-Serif\" font-size=\"14.00\">gini = 0.35</text>\n",
       "<text text-anchor=\"middle\" x=\"1324\" y=\"-346.95\" font-family=\"Helvetica,sans-Serif\" font-size=\"14.00\">samples = 53</text>\n",
       "<text text-anchor=\"middle\" x=\"1324\" y=\"-329.7\" font-family=\"Helvetica,sans-Serif\" font-size=\"14.00\">value = [41, 12]</text>\n",
       "</g>\n",
       "<!-- 24&#45;&gt;25 -->\n",
       "<g id=\"edge25\" class=\"edge\">\n",
       "<title>24&#45;&gt;25</title>\n",
       "<path fill=\"none\" stroke=\"black\" d=\"M1324,-434.36C1324,-426.59 1324,-418.31 1324,-410.21\"/>\n",
       "<polygon fill=\"black\" stroke=\"black\" points=\"1327.5,-410.48 1324,-400.48 1320.5,-410.48 1327.5,-410.48\"/>\n",
       "</g>\n",
       "<!-- 28 -->\n",
       "<g id=\"node29\" class=\"node\">\n",
       "<title>28</title>\n",
       "<polygon fill=\"none\" stroke=\"black\" points=\"1606.5,-398.75 1467.5,-398.75 1467.5,-321.75 1606.5,-321.75 1606.5,-398.75\"/>\n",
       "<text text-anchor=\"middle\" x=\"1537\" y=\"-381.45\" font-family=\"Helvetica,sans-Serif\" font-size=\"14.00\">x[2] &lt;= 2.5</text>\n",
       "<text text-anchor=\"middle\" x=\"1537\" y=\"-364.2\" font-family=\"Helvetica,sans-Serif\" font-size=\"14.00\">gini = 0.225</text>\n",
       "<text text-anchor=\"middle\" x=\"1537\" y=\"-346.95\" font-family=\"Helvetica,sans-Serif\" font-size=\"14.00\">samples = 402</text>\n",
       "<text text-anchor=\"middle\" x=\"1537\" y=\"-329.7\" font-family=\"Helvetica,sans-Serif\" font-size=\"14.00\">value = [350, 52]</text>\n",
       "</g>\n",
       "<!-- 24&#45;&gt;28 -->\n",
       "<g id=\"edge28\" class=\"edge\">\n",
       "<title>24&#45;&gt;28</title>\n",
       "<path fill=\"none\" stroke=\"black\" d=\"M1393.74,-435.9C1413.97,-425.36 1436.22,-413.77 1457.02,-402.93\"/>\n",
       "<polygon fill=\"black\" stroke=\"black\" points=\"1458.51,-406.1 1465.76,-398.38 1455.27,-399.89 1458.51,-406.1\"/>\n",
       "</g>\n",
       "<!-- 26 -->\n",
       "<g id=\"node27\" class=\"node\">\n",
       "<title>26</title>\n",
       "<polygon fill=\"none\" stroke=\"black\" points=\"1310.38,-277.12 1197.62,-277.12 1197.62,-217.38 1310.38,-217.38 1310.38,-277.12\"/>\n",
       "<text text-anchor=\"middle\" x=\"1254\" y=\"-259.82\" font-family=\"Helvetica,sans-Serif\" font-size=\"14.00\">gini = 0.32</text>\n",
       "<text text-anchor=\"middle\" x=\"1254\" y=\"-242.57\" font-family=\"Helvetica,sans-Serif\" font-size=\"14.00\">samples = 10</text>\n",
       "<text text-anchor=\"middle\" x=\"1254\" y=\"-225.32\" font-family=\"Helvetica,sans-Serif\" font-size=\"14.00\">value = [8, 2]</text>\n",
       "</g>\n",
       "<!-- 25&#45;&gt;26 -->\n",
       "<g id=\"edge26\" class=\"edge\">\n",
       "<title>25&#45;&gt;26</title>\n",
       "<path fill=\"none\" stroke=\"black\" d=\"M1300.11,-321.36C1293.12,-310.29 1285.48,-298.17 1278.46,-287.04\"/>\n",
       "<polygon fill=\"black\" stroke=\"black\" points=\"1281.59,-285.43 1273.29,-278.84 1275.67,-289.17 1281.59,-285.43\"/>\n",
       "</g>\n",
       "<!-- 27 -->\n",
       "<g id=\"node28\" class=\"node\">\n",
       "<title>27</title>\n",
       "<polygon fill=\"none\" stroke=\"black\" points=\"1458,-277.12 1328,-277.12 1328,-217.38 1458,-217.38 1458,-277.12\"/>\n",
       "<text text-anchor=\"middle\" x=\"1393\" y=\"-259.82\" font-family=\"Helvetica,sans-Serif\" font-size=\"14.00\">gini = 0.357</text>\n",
       "<text text-anchor=\"middle\" x=\"1393\" y=\"-242.57\" font-family=\"Helvetica,sans-Serif\" font-size=\"14.00\">samples = 43</text>\n",
       "<text text-anchor=\"middle\" x=\"1393\" y=\"-225.32\" font-family=\"Helvetica,sans-Serif\" font-size=\"14.00\">value = [33, 10]</text>\n",
       "</g>\n",
       "<!-- 25&#45;&gt;27 -->\n",
       "<g id=\"edge27\" class=\"edge\">\n",
       "<title>25&#45;&gt;27</title>\n",
       "<path fill=\"none\" stroke=\"black\" d=\"M1347.55,-321.36C1354.44,-310.29 1361.97,-298.17 1368.89,-287.04\"/>\n",
       "<polygon fill=\"black\" stroke=\"black\" points=\"1371.67,-289.19 1373.98,-278.85 1365.73,-285.49 1371.67,-289.19\"/>\n",
       "</g>\n",
       "<!-- 29 -->\n",
       "<g id=\"node30\" class=\"node\">\n",
       "<title>29</title>\n",
       "<polygon fill=\"none\" stroke=\"black\" points=\"1597.5,-285.75 1476.5,-285.75 1476.5,-208.75 1597.5,-208.75 1597.5,-285.75\"/>\n",
       "<text text-anchor=\"middle\" x=\"1537\" y=\"-268.45\" font-family=\"Helvetica,sans-Serif\" font-size=\"14.00\">x[1] &lt;= 2.5</text>\n",
       "<text text-anchor=\"middle\" x=\"1537\" y=\"-251.2\" font-family=\"Helvetica,sans-Serif\" font-size=\"14.00\">gini = 0.139</text>\n",
       "<text text-anchor=\"middle\" x=\"1537\" y=\"-233.95\" font-family=\"Helvetica,sans-Serif\" font-size=\"14.00\">samples = 40</text>\n",
       "<text text-anchor=\"middle\" x=\"1537\" y=\"-216.7\" font-family=\"Helvetica,sans-Serif\" font-size=\"14.00\">value = [37, 3]</text>\n",
       "</g>\n",
       "<!-- 28&#45;&gt;29 -->\n",
       "<g id=\"edge29\" class=\"edge\">\n",
       "<title>28&#45;&gt;29</title>\n",
       "<path fill=\"none\" stroke=\"black\" d=\"M1537,-321.36C1537,-313.59 1537,-305.31 1537,-297.21\"/>\n",
       "<polygon fill=\"black\" stroke=\"black\" points=\"1540.5,-297.48 1537,-287.48 1533.5,-297.48 1540.5,-297.48\"/>\n",
       "</g>\n",
       "<!-- 32 -->\n",
       "<g id=\"node33\" class=\"node\">\n",
       "<title>32</title>\n",
       "<polygon fill=\"none\" stroke=\"black\" points=\"1754.5,-285.75 1615.5,-285.75 1615.5,-208.75 1754.5,-208.75 1754.5,-285.75\"/>\n",
       "<text text-anchor=\"middle\" x=\"1685\" y=\"-268.45\" font-family=\"Helvetica,sans-Serif\" font-size=\"14.00\">x[1] &lt;= 2.5</text>\n",
       "<text text-anchor=\"middle\" x=\"1685\" y=\"-251.2\" font-family=\"Helvetica,sans-Serif\" font-size=\"14.00\">gini = 0.234</text>\n",
       "<text text-anchor=\"middle\" x=\"1685\" y=\"-233.95\" font-family=\"Helvetica,sans-Serif\" font-size=\"14.00\">samples = 362</text>\n",
       "<text text-anchor=\"middle\" x=\"1685\" y=\"-216.7\" font-family=\"Helvetica,sans-Serif\" font-size=\"14.00\">value = [313, 49]</text>\n",
       "</g>\n",
       "<!-- 28&#45;&gt;32 -->\n",
       "<g id=\"edge32\" class=\"edge\">\n",
       "<title>28&#45;&gt;32</title>\n",
       "<path fill=\"none\" stroke=\"black\" d=\"M1587.52,-321.36C1599.72,-312.21 1612.86,-302.35 1625.43,-292.93\"/>\n",
       "<polygon fill=\"black\" stroke=\"black\" points=\"1627.35,-295.87 1633.25,-287.07 1623.15,-290.27 1627.35,-295.87\"/>\n",
       "</g>\n",
       "<!-- 30 -->\n",
       "<g id=\"node31\" class=\"node\">\n",
       "<title>30</title>\n",
       "<polygon fill=\"none\" stroke=\"black\" points=\"1459,-164.12 1347,-164.12 1347,-104.38 1459,-104.38 1459,-164.12\"/>\n",
       "<text text-anchor=\"middle\" x=\"1403\" y=\"-146.82\" font-family=\"Helvetica,sans-Serif\" font-size=\"14.00\">gini = 0.0</text>\n",
       "<text text-anchor=\"middle\" x=\"1403\" y=\"-129.57\" font-family=\"Helvetica,sans-Serif\" font-size=\"14.00\">samples = 1</text>\n",
       "<text text-anchor=\"middle\" x=\"1403\" y=\"-112.33\" font-family=\"Helvetica,sans-Serif\" font-size=\"14.00\">value = [1, 0]</text>\n",
       "</g>\n",
       "<!-- 29&#45;&gt;30 -->\n",
       "<g id=\"edge30\" class=\"edge\">\n",
       "<title>29&#45;&gt;30</title>\n",
       "<path fill=\"none\" stroke=\"black\" d=\"M1491.26,-208.36C1476.94,-196.5 1461.18,-183.45 1446.99,-171.69\"/>\n",
       "<polygon fill=\"black\" stroke=\"black\" points=\"1449.48,-169.21 1439.55,-165.53 1445.02,-174.6 1449.48,-169.21\"/>\n",
       "</g>\n",
       "<!-- 31 -->\n",
       "<g id=\"node32\" class=\"node\">\n",
       "<title>31</title>\n",
       "<polygon fill=\"none\" stroke=\"black\" points=\"1598.5,-164.12 1477.5,-164.12 1477.5,-104.38 1598.5,-104.38 1598.5,-164.12\"/>\n",
       "<text text-anchor=\"middle\" x=\"1538\" y=\"-146.82\" font-family=\"Helvetica,sans-Serif\" font-size=\"14.00\">gini = 0.142</text>\n",
       "<text text-anchor=\"middle\" x=\"1538\" y=\"-129.57\" font-family=\"Helvetica,sans-Serif\" font-size=\"14.00\">samples = 39</text>\n",
       "<text text-anchor=\"middle\" x=\"1538\" y=\"-112.33\" font-family=\"Helvetica,sans-Serif\" font-size=\"14.00\">value = [36, 3]</text>\n",
       "</g>\n",
       "<!-- 29&#45;&gt;31 -->\n",
       "<g id=\"edge31\" class=\"edge\">\n",
       "<title>29&#45;&gt;31</title>\n",
       "<path fill=\"none\" stroke=\"black\" d=\"M1537.34,-208.36C1537.44,-197.96 1537.54,-186.63 1537.63,-176.07\"/>\n",
       "<polygon fill=\"black\" stroke=\"black\" points=\"1541.13,-176.11 1537.72,-166.07 1534.13,-176.04 1541.13,-176.11\"/>\n",
       "</g>\n",
       "<!-- 33 -->\n",
       "<g id=\"node34\" class=\"node\">\n",
       "<title>33</title>\n",
       "<polygon fill=\"none\" stroke=\"black\" points=\"1749,-164.12 1619,-164.12 1619,-104.38 1749,-104.38 1749,-164.12\"/>\n",
       "<text text-anchor=\"middle\" x=\"1684\" y=\"-146.82\" font-family=\"Helvetica,sans-Serif\" font-size=\"14.00\">gini = 0.261</text>\n",
       "<text text-anchor=\"middle\" x=\"1684\" y=\"-129.57\" font-family=\"Helvetica,sans-Serif\" font-size=\"14.00\">samples = 97</text>\n",
       "<text text-anchor=\"middle\" x=\"1684\" y=\"-112.33\" font-family=\"Helvetica,sans-Serif\" font-size=\"14.00\">value = [82, 15]</text>\n",
       "</g>\n",
       "<!-- 32&#45;&gt;33 -->\n",
       "<g id=\"edge33\" class=\"edge\">\n",
       "<title>32&#45;&gt;33</title>\n",
       "<path fill=\"none\" stroke=\"black\" d=\"M1684.66,-208.36C1684.56,-197.96 1684.46,-186.63 1684.37,-176.07\"/>\n",
       "<polygon fill=\"black\" stroke=\"black\" points=\"1687.87,-176.04 1684.28,-166.07 1680.87,-176.11 1687.87,-176.04\"/>\n",
       "</g>\n",
       "<!-- 34 -->\n",
       "<g id=\"node35\" class=\"node\">\n",
       "<title>34</title>\n",
       "<polygon fill=\"none\" stroke=\"black\" points=\"1906.5,-164.12 1767.5,-164.12 1767.5,-104.38 1906.5,-104.38 1906.5,-164.12\"/>\n",
       "<text text-anchor=\"middle\" x=\"1837\" y=\"-146.82\" font-family=\"Helvetica,sans-Serif\" font-size=\"14.00\">gini = 0.224</text>\n",
       "<text text-anchor=\"middle\" x=\"1837\" y=\"-129.57\" font-family=\"Helvetica,sans-Serif\" font-size=\"14.00\">samples = 265</text>\n",
       "<text text-anchor=\"middle\" x=\"1837\" y=\"-112.33\" font-family=\"Helvetica,sans-Serif\" font-size=\"14.00\">value = [231, 34]</text>\n",
       "</g>\n",
       "<!-- 32&#45;&gt;34 -->\n",
       "<g id=\"edge34\" class=\"edge\">\n",
       "<title>32&#45;&gt;34</title>\n",
       "<path fill=\"none\" stroke=\"black\" d=\"M1736.88,-208.36C1753.43,-196.28 1771.68,-182.95 1788.01,-171.03\"/>\n",
       "<polygon fill=\"black\" stroke=\"black\" points=\"1789.63,-174.18 1795.64,-165.45 1785.5,-168.53 1789.63,-174.18\"/>\n",
       "</g>\n",
       "</g>\n",
       "</svg>\n"
      ],
      "text/plain": [
       "<graphviz.sources.Source at 0x7c9fb13137c0>"
      ]
     },
     "execution_count": 43,
     "metadata": {},
     "output_type": "execute_result"
    }
   ],
   "source": [
    "dot_data = tree.export_graphviz(tree_model, out_file=None) \n",
    "graph = graphviz.Source(dot_data)  \n",
    "graph "
   ]
  },
  {
   "cell_type": "code",
   "execution_count": 44,
   "id": "1e28bfd2",
   "metadata": {
    "execution": {
     "iopub.execute_input": "2024-01-26T20:35:38.021215Z",
     "iopub.status.busy": "2024-01-26T20:35:38.019977Z",
     "iopub.status.idle": "2024-01-26T20:35:38.030351Z",
     "shell.execute_reply": "2024-01-26T20:35:38.029021Z"
    },
    "papermill": {
     "duration": 0.033348,
     "end_time": "2024-01-26T20:35:38.032980",
     "exception": false,
     "start_time": "2024-01-26T20:35:37.999632",
     "status": "completed"
    },
    "tags": []
   },
   "outputs": [
    {
     "data": {
      "text/plain": [
       "0.8114478114478114"
      ]
     },
     "execution_count": 44,
     "metadata": {},
     "output_type": "execute_result"
    }
   ],
   "source": [
    "tree_model.score(X = predictors,\n",
    "                 y=df[\"Survived\"])"
   ]
  },
  {
   "cell_type": "markdown",
   "id": "646bfdd3",
   "metadata": {
    "papermill": {
     "duration": 0.018833,
     "end_time": "2024-01-26T20:35:38.072485",
     "exception": false,
     "start_time": "2024-01-26T20:35:38.053652",
     "status": "completed"
    },
    "tags": []
   },
   "source": [
    "The model above is 81.14% accurate on the the training data "
   ]
  },
  {
   "cell_type": "code",
   "execution_count": null,
   "id": "fd5ed5f1",
   "metadata": {
    "papermill": {
     "duration": 0.018802,
     "end_time": "2024-01-26T20:35:38.110421",
     "exception": false,
     "start_time": "2024-01-26T20:35:38.091619",
     "status": "completed"
    },
    "tags": []
   },
   "outputs": [],
   "source": []
  }
 ],
 "metadata": {
  "kaggle": {
   "accelerator": "none",
   "dataSources": [
    {
     "datasetId": 11657,
     "sourceId": 16098,
     "sourceType": "datasetVersion"
    }
   ],
   "dockerImageVersionId": 30635,
   "isGpuEnabled": false,
   "isInternetEnabled": false,
   "language": "python",
   "sourceType": "notebook"
  },
  "kernelspec": {
   "display_name": "Python 3",
   "language": "python",
   "name": "python3"
  },
  "language_info": {
   "codemirror_mode": {
    "name": "ipython",
    "version": 3
   },
   "file_extension": ".py",
   "mimetype": "text/x-python",
   "name": "python",
   "nbconvert_exporter": "python",
   "pygments_lexer": "ipython3",
   "version": "3.10.12"
  },
  "papermill": {
   "default_parameters": {},
   "duration": 10.901389,
   "end_time": "2024-01-26T20:35:38.850921",
   "environment_variables": {},
   "exception": null,
   "input_path": "__notebook__.ipynb",
   "output_path": "__notebook__.ipynb",
   "parameters": {},
   "start_time": "2024-01-26T20:35:27.949532",
   "version": "2.4.0"
  }
 },
 "nbformat": 4,
 "nbformat_minor": 5
}
